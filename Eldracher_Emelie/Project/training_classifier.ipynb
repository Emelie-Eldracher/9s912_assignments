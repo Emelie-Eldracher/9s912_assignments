{
  "nbformat": 4,
  "nbformat_minor": 0,
  "metadata": {
    "colab": {
      "provenance": []
    },
    "kernelspec": {
      "name": "python3",
      "display_name": "Python 3"
    },
    "language_info": {
      "name": "python"
    }
  },
  "cells": [
    {
      "cell_type": "markdown",
      "source": [
        "# Training RNN on Rowing Skeletons\n",
        "The purpose of this notebook is to train an RNN on the rowing skeleton data that Emelie generated. After training the RNN, we will classify the ability of the rower using the RNN activations."
      ],
      "metadata": {
        "id": "oSomnKvwLZHt"
      }
    },
    {
      "cell_type": "markdown",
      "source": [
        "## Imports"
      ],
      "metadata": {
        "id": "5nZMV9mwL8db"
      }
    },
    {
      "cell_type": "code",
      "source": [
        "import os\n",
        "from tqdm import tqdm\n",
        "import numpy as np\n",
        "import pandas as pd\n",
        "import random\n",
        "\n",
        "import matplotlib.pyplot as plt\n",
        "from mpl_toolkits.mplot3d import Axes3D\n",
        "from sklearn.decomposition import PCA\n",
        "\n",
        "import torch\n",
        "import torch.nn as nn\n",
        "import torch.optim as optim"
      ],
      "metadata": {
        "id": "ctvYf9U1L7-t"
      },
      "execution_count": null,
      "outputs": []
    },
    {
      "cell_type": "code",
      "source": [
        "from google.colab import drive\n",
        "drive.mount('/content/drive')"
      ],
      "metadata": {
        "colab": {
          "base_uri": "https://localhost:8080/"
        },
        "id": "MlCzlHbwMjt7",
        "outputId": "366844c7-f71a-4eb5-a98f-4a6c6a9d7ffc"
      },
      "execution_count": null,
      "outputs": [
        {
          "output_type": "stream",
          "name": "stdout",
          "text": [
            "Mounted at /content/drive\n"
          ]
        }
      ]
    },
    {
      "cell_type": "code",
      "source": [
        "def set_seed(seed_value=42):\n",
        "    \"\"\"Set seed for reproducibility.\"\"\"\n",
        "    torch.manual_seed(seed_value)\n",
        "    torch.cuda.manual_seed(seed_value)\n",
        "    torch.cuda.manual_seed_all(seed_value)\n",
        "    np.random.seed(seed_value)\n",
        "    random.seed(seed_value)\n",
        "    torch.backends.cudnn.deterministic = True\n",
        "    torch.backends.cudnn.benchmark = False\n",
        "\n",
        "set_seed()"
      ],
      "metadata": {
        "id": "5dPv5lWRfgtv"
      },
      "execution_count": null,
      "outputs": []
    },
    {
      "cell_type": "markdown",
      "source": [
        "## Create dataset"
      ],
      "metadata": {
        "id": "uWDb6qCyMZNB"
      }
    },
    {
      "cell_type": "code",
      "source": [
        "drive_locations = [\n",
        "    '/content/drive/MyDrive/Keith_Emelie_final/PR1_vid1/PR1_coordinates_v_a_angle.csv',\n",
        "    '/content/drive/MyDrive/Keith_Emelie_final/PR1_vid2/PR2_1_2_coordinates_v_a_angle.csv',\n",
        "    '/content/drive/MyDrive/Keith_Emelie_final/PR2_vid1/PR2_coordinates_v_a_angle.csv',\n",
        "    '/content/drive/MyDrive/Keith_Emelie_final/PR2_vid2/PR2_2_coordinates_v_a_angle.csv',\n",
        "    '/content/drive/MyDrive/Keith_Emelie_final/PR3_vid1/PR2_3_1_coordinates_v_a_angle.csv',\n",
        "    '/content/drive/MyDrive/Keith_Emelie_final/PR3_vid21/PR2_3_2_coordinates_v_a_angle.csv',\n",
        "]\n",
        "pr_labels = [\n",
        "    'PR1',\n",
        "    'PR1',\n",
        "    'PR2',\n",
        "    'PR2',\n",
        "    'PR3',\n",
        "    'PR3',\n",
        "]"
      ],
      "metadata": {
        "id": "wvjBJ2dPMYNi"
      },
      "execution_count": null,
      "outputs": []
    },
    {
      "cell_type": "code",
      "source": [
        "def drop_columns(df):\n",
        "    # Find columns that do not have exactly 3 underscores\n",
        "    cols_to_drop = [col for col in df.columns if col.count('_') != 2 or 'coco' in col]\n",
        "\n",
        "    # Drop these columns\n",
        "    df.drop(columns=cols_to_drop, inplace=True)\n",
        "\n",
        "    return df\n",
        "\n",
        "def all_lists_identical(list_of_lists):\n",
        "    # Check if list_of_lists is empty or contains only one list\n",
        "    if not list_of_lists or len(list_of_lists) == 1:\n",
        "        return True\n",
        "\n",
        "    # Take the first list as the reference\n",
        "    first_list = list_of_lists[0]\n",
        "\n",
        "    # Compare each subsequent list with the first list\n",
        "    for lst in list_of_lists[1:]:\n",
        "        if lst != first_list:\n",
        "            return False\n",
        "\n",
        "    return True\n",
        "\n",
        "def equalize_df_lengths(df_list):\n",
        "    # Determine the length of the shortest DataFrame\n",
        "    min_length = min(len(df) for df in df_list)\n",
        "\n",
        "    # Modify each DataFrame to match the shortest length\n",
        "    for i in range(len(df_list)):\n",
        "        # Truncate if longer\n",
        "        if len(df_list[i]) > min_length:\n",
        "            df_list[i] = df_list[i].iloc[:min_length]\n",
        "        # Extend if shorter\n",
        "        elif len(df_list[i]) < min_length:\n",
        "            # Create a DataFrame with NaNs to append\n",
        "            additional_rows = min_length - len(df_list[i])\n",
        "            columns = df_list[i].columns\n",
        "            df_to_append = pd.DataFrame([[pd.NA] * len(columns)] * additional_rows, columns=columns)\n",
        "            df_list[i] = pd.concat([df_list[i], df_to_append], ignore_index=True)\n",
        "\n",
        "    return df_list"
      ],
      "metadata": {
        "id": "DQHUdArnRhYg"
      },
      "execution_count": null,
      "outputs": []
    },
    {
      "cell_type": "code",
      "source": [
        "def drop_columns(df):\n",
        "    # Find columns that don't start with \"V\"\n",
        "    cols_to_drop = [col for col in df.columns if not col.startswith('Angle')]\n",
        "\n",
        "    # Drop these columns\n",
        "    df.drop(columns=cols_to_drop, inplace=True)\n",
        "\n",
        "    return df"
      ],
      "metadata": {
        "id": "J3kStx5wEEnp"
      },
      "execution_count": null,
      "outputs": []
    },
    {
      "cell_type": "code",
      "source": [
        "csv_df = [drop_columns(pd.read_csv(i))for i in drive_locations]"
      ],
      "metadata": {
        "id": "BtJ00ziyMsVA"
      },
      "execution_count": null,
      "outputs": []
    },
    {
      "cell_type": "code",
      "source": [
        "#csv_df = [pd.read_csv(i) for i in drive_locations]"
      ],
      "metadata": {
        "id": "YnMBNjZYCmbF"
      },
      "execution_count": null,
      "outputs": []
    },
    {
      "cell_type": "code",
      "source": [
        "csv_df_column_names = [list(i.columns) for i in csv_df]\n",
        "all_lists_identical(csv_df_column_names)"
      ],
      "metadata": {
        "colab": {
          "base_uri": "https://localhost:8080/"
        },
        "id": "JRWHcCx2NINo",
        "outputId": "09422e80-fd39-414a-b9b2-85616968ca94"
      },
      "execution_count": null,
      "outputs": [
        {
          "output_type": "execute_result",
          "data": {
            "text/plain": [
              "True"
            ]
          },
          "metadata": {},
          "execution_count": 17
        }
      ]
    },
    {
      "cell_type": "code",
      "source": [
        "csv_df = equalize_df_lengths(csv_df)"
      ],
      "metadata": {
        "id": "wcEUWxV1Sk4v"
      },
      "execution_count": null,
      "outputs": []
    },
    {
      "cell_type": "code",
      "source": [
        "csv_df_lens = [len(i) for i in csv_df]\n",
        "csv_df_lens"
      ],
      "metadata": {
        "colab": {
          "base_uri": "https://localhost:8080/"
        },
        "id": "uRxdnVn2RVGT",
        "outputId": "16101d92-29bc-4be7-b572-5bec7e2af5f2"
      },
      "execution_count": null,
      "outputs": [
        {
          "output_type": "execute_result",
          "data": {
            "text/plain": [
              "[328, 328, 328, 328, 328, 328]"
            ]
          },
          "metadata": {},
          "execution_count": 19
        }
      ]
    },
    {
      "cell_type": "code",
      "source": [
        "np_key_points = np.stack([i.to_numpy() for i in csv_df], axis=0)\n",
        "np_key_points.shape\n"
      ],
      "metadata": {
        "colab": {
          "base_uri": "https://localhost:8080/"
        },
        "id": "KjNGZ3dNSEhK",
        "outputId": "bc9c3004-7ef6-4d49-fc68-14114f1e7c6e"
      },
      "execution_count": null,
      "outputs": [
        {
          "output_type": "execute_result",
          "data": {
            "text/plain": [
              "(6, 328, 72)"
            ]
          },
          "metadata": {},
          "execution_count": 20
        }
      ]
    },
    {
      "cell_type": "code",
      "source": [
        "reshaped_data = np.reshape(np_key_points, (6 * 328, np_key_points.shape[-1]))\n",
        "reshaped_data.shape\n"
      ],
      "metadata": {
        "colab": {
          "base_uri": "https://localhost:8080/"
        },
        "id": "sSrNhkrR_aCJ",
        "outputId": "e3c8c617-2b50-4c5b-d448-5b1fe082f0a6"
      },
      "execution_count": null,
      "outputs": [
        {
          "output_type": "execute_result",
          "data": {
            "text/plain": [
              "(1968, 72)"
            ]
          },
          "metadata": {},
          "execution_count": 21
        }
      ]
    },
    {
      "cell_type": "code",
      "source": [
        "import numpy as np\n",
        "from sklearn.model_selection import train_test_split\n",
        "\n",
        "# Assuming your data is stored in a variable called 'data'\n",
        "# Create labels\n",
        "labels = np.repeat(np.arange(3), 656)\n",
        "\n",
        "# Add labels as a new column to your data\n",
        "data_with_labels = np.column_stack((reshaped_data, labels))\n",
        "\n",
        "# Shuffle the data\n",
        "np.random.shuffle(data_with_labels)\n",
        "\n",
        "# Separate features and labels\n",
        "X = data_with_labels[:, :-1]\n",
        "y = data_with_labels[:, -1]\n",
        "\n",
        "# Split the data into training and testing sets (80/20 split)\n",
        "X_train, X_test, y_train, y_test = train_test_split(X, y, test_size=0.2, random_state=42)\n",
        "\n",
        "# Now you have X_train, X_test, y_train, y_test for your classifier\n"
      ],
      "metadata": {
        "id": "WFW1L5IHBb-4"
      },
      "execution_count": null,
      "outputs": []
    },
    {
      "cell_type": "code",
      "source": [
        "import torch\n",
        "import torch.nn as nn\n",
        "import torch.optim as optim\n",
        "import torch.nn.functional as F\n",
        "from torch.utils.data import DataLoader, TensorDataset\n",
        "\n",
        "# Convert NumPy arrays to PyTorch tensors\n",
        "X_train_tensor = torch.FloatTensor(X_train)\n",
        "y_train_tensor = torch.LongTensor(y_train)\n",
        "\n",
        "X_test_tensor = torch.FloatTensor(X_test)\n",
        "y_test_tensor = torch.LongTensor(y_test)\n",
        "\n",
        "# Define a simple neural network model\n",
        "#class SimpleClassifier(nn.Module):\n",
        "    #def __init__(self, input_size, output_size):\n",
        "        #super(SimpleClassifier, self).__init__()\n",
        "        #self.fc = nn.Linear(input_size, output_size)\n",
        "\n",
        "    #def forward(self, x):\n",
        "        #x = self.fc(x)\n",
        "        #return x\n",
        "\n",
        "class DenseClassifier(nn.Module):\n",
        "    def __init__(self, input_size, hidden_size, output_size):\n",
        "        super(DenseClassifier, self).__init__()\n",
        "        self.fc1 = nn.Linear(input_size, hidden_size)\n",
        "        self.fc2 = nn.Linear(hidden_size, output_size)\n",
        "\n",
        "    def forward(self, x):\n",
        "        x = F.relu(self.fc1(x))\n",
        "        x = self.fc2(x)\n",
        "        return x\n",
        "\n",
        "# Instantiate the model\n",
        "\n",
        "input_size = X_train.shape[1]\n",
        "hidden_size = 64  # You can adjust the hidden layer size based on your requirements\n",
        "output_size = len(np.unique(y_train))\n",
        "\n",
        "print(input_size)\n",
        "#model = DenseClassifier(input_size, output_size)\n",
        "model = DenseClassifier(input_size, hidden_size, output_size)\n",
        "\n",
        "# Define loss function and optimizer\n",
        "criterion = nn.CrossEntropyLoss()\n",
        "optimizer = optim.Adam(model.parameters(), lr=0.001)\n",
        "\n",
        "# Convert data to DataLoader\n",
        "train_dataset = TensorDataset(X_train_tensor, y_train_tensor)\n",
        "train_loader = DataLoader(train_dataset, batch_size=32, shuffle=True)\n",
        "\n",
        "# Training loop\n",
        "epochs = 10\n",
        "\n",
        "for epoch in range(epochs):\n",
        "    for inputs, labels in train_loader:\n",
        "        optimizer.zero_grad()\n",
        "        outputs = model(inputs)\n",
        "        loss = criterion(outputs, labels)\n",
        "        loss.backward()\n",
        "        optimizer.step()\n",
        "\n",
        "# Evaluate the model on the test set\n",
        "with torch.no_grad():\n",
        "    outputs = model(X_test_tensor)\n",
        "    _, predicted = torch.max(outputs, 1)\n",
        "    accuracy = (predicted == y_test_tensor).sum().item() / len(y_test_tensor)\n",
        "\n",
        "print(f\"Accuracy on the test set: {accuracy * 100:.2f}%\")\n"
      ],
      "metadata": {
        "colab": {
          "base_uri": "https://localhost:8080/"
        },
        "id": "1kGa0OYnBtOV",
        "outputId": "26ce0f97-4d57-410b-a644-3adfd804c580"
      },
      "execution_count": null,
      "outputs": [
        {
          "output_type": "stream",
          "name": "stdout",
          "text": [
            "72\n",
            "Accuracy on the test set: 94.92%\n"
          ]
        }
      ]
    },
    {
      "cell_type": "code",
      "source": [
        "from sklearn.metrics import confusion_matrix\n",
        "import seaborn as sns\n",
        "import matplotlib.pyplot as plt\n",
        "\n",
        "# Convert predictions to numpy array\n",
        "with torch.no_grad():\n",
        "    outputs = model(X_test_tensor)\n",
        "    _, predicted = torch.max(outputs, 1)\n",
        "    y_pred = predicted.numpy()\n",
        "\n",
        "# Compute confusion matrix\n",
        "cm = confusion_matrix(y_test, y_pred)\n",
        "\n",
        "# Visualize confusion matrix using seaborn heatmap\n",
        "plt.figure(figsize=(8, 6))\n",
        "sns.heatmap(cm, annot=True, fmt='d', cmap='Blues', xticklabels=np.unique(y_test), yticklabels=np.unique(y_test))\n",
        "plt.xlabel('Predicted')\n",
        "plt.ylabel('True')\n",
        "plt.title('Confusion Matrix')\n",
        "plt.show()\n"
      ],
      "metadata": {
        "colab": {
          "base_uri": "https://localhost:8080/",
          "height": 564
        },
        "id": "6K26oGFICOJd",
        "outputId": "146c2a94-6a89-4ca9-a096-e958a02d323f"
      },
      "execution_count": null,
      "outputs": [
        {
          "output_type": "display_data",
          "data": {
            "text/plain": [
              "<Figure size 800x600 with 2 Axes>"
            ],
            "image/png": "[encoded data removed]"
          },
          "metadata": {}
        }
      ]
    },
    {
      "cell_type": "code",
      "source": [
        "import plotly.graph_objects as go\n",
        "\n",
        "def plot_percentage_bar(percentage_data, labels):\n",
        "    # Create a Plotly bar graph\n",
        "    fig = go.Figure(data=[go.Bar(x=labels, y=percentage_data)])\n",
        "\n",
        "    # Add a horizontal line at y = 30\n",
        "    fig.add_shape(type='line',\n",
        "                  x0=0,\n",
        "                  x1=labels[-1],\n",
        "                  y0=33.3,\n",
        "                  y1=33.3,\n",
        "                  line=dict(color='red', width=2))\n",
        "\n",
        "    # Update layout for better visibility\n",
        "    fig.update_layout(title='Percentage Distribution',\n",
        "                      xaxis=dict(title='Labels'),\n",
        "                      yaxis=dict(title='Percentage % Correct Classified'))\n",
        "\n",
        "    # Show the plot\n",
        "    fig.show()\n",
        "\n",
        "# Example usage\n",
        "percentage_data = [93.15, 61.42, 65.23, 34.26, 36.04]  # Replace this with your actual percentage data\n",
        "labels = ['Keypoints', 'Velocity', 'Acceleration', 'Angles', 'All' ]  # Replace this with your actual labels\n",
        "\n",
        "plot_percentage_bar(percentage_data, labels)\n"
      ],
      "metadata": {
        "colab": {
          "base_uri": "https://localhost:8080/",
          "height": 542
        },
        "id": "6MHpLgQUXgCM",
        "outputId": "b4d9cdf5-d251-49d3-f23d-b254f3156279"
      },
      "execution_count": null,
      "outputs": [
        {
          "output_type": "display_data",
          "data": {
            "text/html": [
              "<html>\n",
              "<head><meta charset=\"utf-8\" /></head>\n",
              "<body>\n",
              "    <div>            <script src=\"https://cdnjs.cloudflare.com/ajax/libs/mathjax/2.7.5/MathJax.js?config=TeX-AMS-MML_SVG\"></script><script type=\"text/javascript\">if (window.MathJax && window.MathJax.Hub && window.MathJax.Hub.Config) {window.MathJax.Hub.Config({SVG: {font: \"STIX-Web\"}});}</script>                <script type=\"text/javascript\">window.PlotlyConfig = {MathJaxConfig: 'local'};</script>\n",
              "        <script charset=\"utf-8\" src=\"https://cdn.plot.ly/plotly-2.24.1.min.js\"></script>                <div id=\"3a3ede8e-55ad-490b-b7bf-a41ab71bea82\" class=\"plotly-graph-div\" style=\"height:525px; width:100%;\"></div>            <script type=\"text/javascript\">                                    window.PLOTLYENV=window.PLOTLYENV || {};                                    if (document.getElementById(\"3a3ede8e-55ad-490b-b7bf-a41ab71bea82\")) {                    Plotly.newPlot(                        \"3a3ede8e-55ad-490b-b7bf-a41ab71bea82\",                        [{\"x\":[\"Keypoints\",\"Velocity\",\"Acceleration\",\"Angles\",\"All\"],\"y\":[93.15,61.42,65.23,34.26,36.04],\"type\":\"bar\"}],                        {\"template\":{\"data\":{\"histogram2dcontour\":[{\"type\":\"histogram2dcontour\",\"colorbar\":{\"outlinewidth\":0,\"ticks\":\"\"},\"colorscale\":[[0.0,\"#0d0887\"],[0.1111111111111111,\"#46039f\"],[0.2222222222222222,\"#7201a8\"],[0.3333333333333333,\"#9c179e\"],[0.4444444444444444,\"#bd3786\"],[0.5555555555555556,\"#d8576b\"],[0.6666666666666666,\"#ed7953\"],[0.7777777777777778,\"#fb9f3a\"],[0.8888888888888888,\"#fdca26\"],[1.0,\"#f0f921\"]]}],\"choropleth\":[{\"type\":\"choropleth\",\"colorbar\":{\"outlinewidth\":0,\"ticks\":\"\"}}],\"histogram2d\":[{\"type\":\"histogram2d\",\"colorbar\":{\"outlinewidth\":0,\"ticks\":\"\"},\"colorscale\":[[0.0,\"#0d0887\"],[0.1111111111111111,\"#46039f\"],[0.2222222222222222,\"#7201a8\"],[0.3333333333333333,\"#9c179e\"],[0.4444444444444444,\"#bd3786\"],[0.5555555555555556,\"#d8576b\"],[0.6666666666666666,\"#ed7953\"],[0.7777777777777778,\"#fb9f3a\"],[0.8888888888888888,\"#fdca26\"],[1.0,\"#f0f921\"]]}],\"heatmap\":[{\"type\":\"heatmap\",\"colorbar\":{\"outlinewidth\":0,\"ticks\":\"\"},\"colorscale\":[[0.0,\"#0d0887\"],[0.1111111111111111,\"#46039f\"],[0.2222222222222222,\"#7201a8\"],[0.3333333333333333,\"#9c179e\"],[0.4444444444444444,\"#bd3786\"],[0.5555555555555556,\"#d8576b\"],[0.6666666666666666,\"#ed7953\"],[0.7777777777777778,\"#fb9f3a\"],[0.8888888888888888,\"#fdca26\"],[1.0,\"#f0f921\"]]}],\"heatmapgl\":[{\"type\":\"heatmapgl\",\"colorbar\":{\"outlinewidth\":0,\"ticks\":\"\"},\"colorscale\":[[0.0,\"#0d0887\"],[0.1111111111111111,\"#46039f\"],[0.2222222222222222,\"#7201a8\"],[0.3333333333333333,\"#9c179e\"],[0.4444444444444444,\"#bd3786\"],[0.5555555555555556,\"#d8576b\"],[0.6666666666666666,\"#ed7953\"],[0.7777777777777778,\"#fb9f3a\"],[0.8888888888888888,\"#fdca26\"],[1.0,\"#f0f921\"]]}],\"contourcarpet\":[{\"type\":\"contourcarpet\",\"colorbar\":{\"outlinewidth\":0,\"ticks\":\"\"}}],\"contour\":[{\"type\":\"contour\",\"colorbar\":{\"outlinewidth\":0,\"ticks\":\"\"},\"colorscale\":[[0.0,\"#0d0887\"],[0.1111111111111111,\"#46039f\"],[0.2222222222222222,\"#7201a8\"],[0.3333333333333333,\"#9c179e\"],[0.4444444444444444,\"#bd3786\"],[0.5555555555555556,\"#d8576b\"],[0.6666666666666666,\"#ed7953\"],[0.7777777777777778,\"#fb9f3a\"],[0.8888888888888888,\"#fdca26\"],[1.0,\"#f0f921\"]]}],\"surface\":[{\"type\":\"surface\",\"colorbar\":{\"outlinewidth\":0,\"ticks\":\"\"},\"colorscale\":[[0.0,\"#0d0887\"],[0.1111111111111111,\"#46039f\"],[0.2222222222222222,\"#7201a8\"],[0.3333333333333333,\"#9c179e\"],[0.4444444444444444,\"#bd3786\"],[0.5555555555555556,\"#d8576b\"],[0.6666666666666666,\"#ed7953\"],[0.7777777777777778,\"#fb9f3a\"],[0.8888888888888888,\"#fdca26\"],[1.0,\"#f0f921\"]]}],\"mesh3d\":[{\"type\":\"mesh3d\",\"colorbar\":{\"outlinewidth\":0,\"ticks\":\"\"}}],\"scatter\":[{\"fillpattern\":{\"fillmode\":\"overlay\",\"size\":10,\"solidity\":0.2},\"type\":\"scatter\"}],\"parcoords\":[{\"type\":\"parcoords\",\"line\":{\"colorbar\":{\"outlinewidth\":0,\"ticks\":\"\"}}}],\"scatterpolargl\":[{\"type\":\"scatterpolargl\",\"marker\":{\"colorbar\":{\"outlinewidth\":0,\"ticks\":\"\"}}}],\"bar\":[{\"error_x\":{\"color\":\"#2a3f5f\"},\"error_y\":{\"color\":\"#2a3f5f\"},\"marker\":{\"line\":{\"color\":\"#E5ECF6\",\"width\":0.5},\"pattern\":{\"fillmode\":\"overlay\",\"size\":10,\"solidity\":0.2}},\"type\":\"bar\"}],\"scattergeo\":[{\"type\":\"scattergeo\",\"marker\":{\"colorbar\":{\"outlinewidth\":0,\"ticks\":\"\"}}}],\"scatterpolar\":[{\"type\":\"scatterpolar\",\"marker\":{\"colorbar\":{\"outlinewidth\":0,\"ticks\":\"\"}}}],\"histogram\":[{\"marker\":{\"pattern\":{\"fillmode\":\"overlay\",\"size\":10,\"solidity\":0.2}},\"type\":\"histogram\"}],\"scattergl\":[{\"type\":\"scattergl\",\"marker\":{\"colorbar\":{\"outlinewidth\":0,\"ticks\":\"\"}}}],\"scatter3d\":[{\"type\":\"scatter3d\",\"line\":{\"colorbar\":{\"outlinewidth\":0,\"ticks\":\"\"}},\"marker\":{\"colorbar\":{\"outlinewidth\":0,\"ticks\":\"\"}}}],\"scattermapbox\":[{\"type\":\"scattermapbox\",\"marker\":{\"colorbar\":{\"outlinewidth\":0,\"ticks\":\"\"}}}],\"scatterternary\":[{\"type\":\"scatterternary\",\"marker\":{\"colorbar\":{\"outlinewidth\":0,\"ticks\":\"\"}}}],\"scattercarpet\":[{\"type\":\"scattercarpet\",\"marker\":{\"colorbar\":{\"outlinewidth\":0,\"ticks\":\"\"}}}],\"carpet\":[{\"aaxis\":{\"endlinecolor\":\"#2a3f5f\",\"gridcolor\":\"white\",\"linecolor\":\"white\",\"minorgridcolor\":\"white\",\"startlinecolor\":\"#2a3f5f\"},\"baxis\":{\"endlinecolor\":\"#2a3f5f\",\"gridcolor\":\"white\",\"linecolor\":\"white\",\"minorgridcolor\":\"white\",\"startlinecolor\":\"#2a3f5f\"},\"type\":\"carpet\"}],\"table\":[{\"cells\":{\"fill\":{\"color\":\"#EBF0F8\"},\"line\":{\"color\":\"white\"}},\"header\":{\"fill\":{\"color\":\"#C8D4E3\"},\"line\":{\"color\":\"white\"}},\"type\":\"table\"}],\"barpolar\":[{\"marker\":{\"line\":{\"color\":\"#E5ECF6\",\"width\":0.5},\"pattern\":{\"fillmode\":\"overlay\",\"size\":10,\"solidity\":0.2}},\"type\":\"barpolar\"}],\"pie\":[{\"automargin\":true,\"type\":\"pie\"}]},\"layout\":{\"autotypenumbers\":\"strict\",\"colorway\":[\"#636efa\",\"#EF553B\",\"#00cc96\",\"#ab63fa\",\"#FFA15A\",\"#19d3f3\",\"#FF6692\",\"#B6E880\",\"#FF97FF\",\"#FECB52\"],\"font\":{\"color\":\"#2a3f5f\"},\"hovermode\":\"closest\",\"hoverlabel\":{\"align\":\"left\"},\"paper_bgcolor\":\"white\",\"plot_bgcolor\":\"#E5ECF6\",\"polar\":{\"bgcolor\":\"#E5ECF6\",\"angularaxis\":{\"gridcolor\":\"white\",\"linecolor\":\"white\",\"ticks\":\"\"},\"radialaxis\":{\"gridcolor\":\"white\",\"linecolor\":\"white\",\"ticks\":\"\"}},\"ternary\":{\"bgcolor\":\"#E5ECF6\",\"aaxis\":{\"gridcolor\":\"white\",\"linecolor\":\"white\",\"ticks\":\"\"},\"baxis\":{\"gridcolor\":\"white\",\"linecolor\":\"white\",\"ticks\":\"\"},\"caxis\":{\"gridcolor\":\"white\",\"linecolor\":\"white\",\"ticks\":\"\"}},\"coloraxis\":{\"colorbar\":{\"outlinewidth\":0,\"ticks\":\"\"}},\"colorscale\":{\"sequential\":[[0.0,\"#0d0887\"],[0.1111111111111111,\"#46039f\"],[0.2222222222222222,\"#7201a8\"],[0.3333333333333333,\"#9c179e\"],[0.4444444444444444,\"#bd3786\"],[0.5555555555555556,\"#d8576b\"],[0.6666666666666666,\"#ed7953\"],[0.7777777777777778,\"#fb9f3a\"],[0.8888888888888888,\"#fdca26\"],[1.0,\"#f0f921\"]],\"sequentialminus\":[[0.0,\"#0d0887\"],[0.1111111111111111,\"#46039f\"],[0.2222222222222222,\"#7201a8\"],[0.3333333333333333,\"#9c179e\"],[0.4444444444444444,\"#bd3786\"],[0.5555555555555556,\"#d8576b\"],[0.6666666666666666,\"#ed7953\"],[0.7777777777777778,\"#fb9f3a\"],[0.8888888888888888,\"#fdca26\"],[1.0,\"#f0f921\"]],\"diverging\":[[0,\"#8e0152\"],[0.1,\"#c51b7d\"],[0.2,\"#de77ae\"],[0.3,\"#f1b6da\"],[0.4,\"#fde0ef\"],[0.5,\"#f7f7f7\"],[0.6,\"#e6f5d0\"],[0.7,\"#b8e186\"],[0.8,\"#7fbc41\"],[0.9,\"#4d9221\"],[1,\"#276419\"]]},\"xaxis\":{\"gridcolor\":\"white\",\"linecolor\":\"white\",\"ticks\":\"\",\"title\":{\"standoff\":15},\"zerolinecolor\":\"white\",\"automargin\":true,\"zerolinewidth\":2},\"yaxis\":{\"gridcolor\":\"white\",\"linecolor\":\"white\",\"ticks\":\"\",\"title\":{\"standoff\":15},\"zerolinecolor\":\"white\",\"automargin\":true,\"zerolinewidth\":2},\"scene\":{\"xaxis\":{\"backgroundcolor\":\"#E5ECF6\",\"gridcolor\":\"white\",\"linecolor\":\"white\",\"showbackground\":true,\"ticks\":\"\",\"zerolinecolor\":\"white\",\"gridwidth\":2},\"yaxis\":{\"backgroundcolor\":\"#E5ECF6\",\"gridcolor\":\"white\",\"linecolor\":\"white\",\"showbackground\":true,\"ticks\":\"\",\"zerolinecolor\":\"white\",\"gridwidth\":2},\"zaxis\":{\"backgroundcolor\":\"#E5ECF6\",\"gridcolor\":\"white\",\"linecolor\":\"white\",\"showbackground\":true,\"ticks\":\"\",\"zerolinecolor\":\"white\",\"gridwidth\":2}},\"shapedefaults\":{\"line\":{\"color\":\"#2a3f5f\"}},\"annotationdefaults\":{\"arrowcolor\":\"#2a3f5f\",\"arrowhead\":0,\"arrowwidth\":1},\"geo\":{\"bgcolor\":\"white\",\"landcolor\":\"#E5ECF6\",\"subunitcolor\":\"white\",\"showland\":true,\"showlakes\":true,\"lakecolor\":\"white\"},\"title\":{\"x\":0.05},\"mapbox\":{\"style\":\"light\"}}},\"shapes\":[{\"line\":{\"color\":\"red\",\"width\":2},\"type\":\"line\",\"x0\":0,\"x1\":\"All\",\"y0\":33.3,\"y1\":33.3}],\"title\":{\"text\":\"Percentage Distribution\"},\"xaxis\":{\"title\":{\"text\":\"Labels\"}},\"yaxis\":{\"title\":{\"text\":\"Percentage % Correct Classified\"}}},                        {\"responsive\": true}                    ).then(function(){\n",
              "                            \n",
              "var gd = document.getElementById('3a3ede8e-55ad-490b-b7bf-a41ab71bea82');\n",
              "var x = new MutationObserver(function (mutations, observer) {{\n",
              "        var display = window.getComputedStyle(gd).display;\n",
              "        if (!display || display === 'none') {{\n",
              "            console.log([gd, 'removed!']);\n",
              "            Plotly.purge(gd);\n",
              "            observer.disconnect();\n",
              "        }}\n",
              "}});\n",
              "\n",
              "// Listen for the removal of the full notebook cells\n",
              "var notebookContainer = gd.closest('#notebook-container');\n",
              "if (notebookContainer) {{\n",
              "    x.observe(notebookContainer, {childList: true});\n",
              "}}\n",
              "\n",
              "// Listen for the clearing of the current output cell\n",
              "var outputEl = gd.closest('.output');\n",
              "if (outputEl) {{\n",
              "    x.observe(outputEl, {childList: true});\n",
              "}}\n",
              "\n",
              "                        })                };                            </script>        </div>\n",
              "</body>\n",
              "</html>"
            ]
          },
          "metadata": {}
        }
      ]
    },
    {
      "cell_type": "code",
      "source": [
        "# Assuming your array is named 'data'\n",
        "reshaped_data = np.reshape(np_key_points, (6 * 328, 72))\n",
        "total_frames = 6 * 328\n",
        "# Create labels\n",
        "label_mapping = {0: 0, 1: 0, 2: 1, 3: 1, 4: 2, 5: 2}  # Map groups to labels\n",
        "labels = np.array([label_mapping[i // 328] for i in range(total_frames)])\n",
        "\n",
        "from sklearn.model_selection import train_test_split\n",
        "\n",
        "# Assuming 'reshaped_data' and 'labels' are your reshaped data and labels\n",
        "X_train, X_val, y_train, y_val = train_test_split(reshaped_data, labels, test_size=0.2, random_state=42)\n",
        "\n",
        "\n",
        "import tensorflow as tf\n",
        "from tensorflow.keras.models import Sequential\n",
        "from tensorflow.keras.layers import Dense\n",
        "\n",
        "model = Sequential()\n",
        "model.add(Dense(128, input_shape=(72,), activation='relu'))\n",
        "model.add(Dense(64, activation='relu'))\n",
        "model.add(Dense(3, activation='softmax'))  # Assuming 3 classes\n",
        "\n",
        "model.compile(optimizer='adam', loss='sparse_categorical_crossentropy', metrics=['accuracy'])\n",
        "\n",
        "model.fit(X_train, y_train, epochs=50, batch_size=32, validation_data=(X_val, y_val))\n",
        "\n",
        "\n",
        "\n"
      ],
      "metadata": {
        "colab": {
          "base_uri": "https://localhost:8080/"
        },
        "id": "6V3aO2VM2Dp5",
        "outputId": "69236089-39a4-4038-eb0b-d9e0d13a72b6"
      },
      "execution_count": null,
      "outputs": [
        {
          "output_type": "stream",
          "name": "stdout",
          "text": [
            "Epoch 1/50\n",
            "50/50 [==============================] - 2s 10ms/step - loss: 0.9346 - accuracy: 0.6722 - val_loss: 0.7560 - val_accuracy: 0.8020\n",
            "Epoch 2/50\n",
            "50/50 [==============================] - 0s 5ms/step - loss: 0.6013 - accuracy: 0.8107 - val_loss: 0.4767 - val_accuracy: 0.8706\n",
            "Epoch 3/50\n",
            "50/50 [==============================] - 0s 5ms/step - loss: 0.3445 - accuracy: 0.9212 - val_loss: 0.2926 - val_accuracy: 0.9162\n",
            "Epoch 4/50\n",
            "50/50 [==============================] - 0s 4ms/step - loss: 0.2006 - accuracy: 0.9543 - val_loss: 0.1939 - val_accuracy: 0.9492\n",
            "Epoch 5/50\n",
            "50/50 [==============================] - 0s 5ms/step - loss: 0.1324 - accuracy: 0.9663 - val_loss: 0.1196 - val_accuracy: 0.9695\n",
            "Epoch 6/50\n",
            "50/50 [==============================] - 0s 5ms/step - loss: 0.1014 - accuracy: 0.9740 - val_loss: 0.0891 - val_accuracy: 0.9797\n",
            "Epoch 7/50\n",
            "50/50 [==============================] - 0s 4ms/step - loss: 0.0796 - accuracy: 0.9809 - val_loss: 0.0982 - val_accuracy: 0.9670\n",
            "Epoch 8/50\n",
            "50/50 [==============================] - 0s 5ms/step - loss: 0.0645 - accuracy: 0.9854 - val_loss: 0.0759 - val_accuracy: 0.9721\n",
            "Epoch 9/50\n",
            "50/50 [==============================] - 0s 4ms/step - loss: 0.0562 - accuracy: 0.9854 - val_loss: 0.0647 - val_accuracy: 0.9848\n",
            "Epoch 10/50\n",
            "50/50 [==============================] - 0s 4ms/step - loss: 0.0433 - accuracy: 0.9911 - val_loss: 0.0420 - val_accuracy: 0.9898\n",
            "Epoch 11/50\n",
            "50/50 [==============================] - 0s 4ms/step - loss: 0.0363 - accuracy: 0.9917 - val_loss: 0.0496 - val_accuracy: 0.9873\n",
            "Epoch 12/50\n",
            "50/50 [==============================] - 0s 4ms/step - loss: 0.0338 - accuracy: 0.9930 - val_loss: 0.0514 - val_accuracy: 0.9822\n",
            "Epoch 13/50\n",
            "50/50 [==============================] - 0s 5ms/step - loss: 0.0292 - accuracy: 0.9924 - val_loss: 0.0463 - val_accuracy: 0.9898\n",
            "Epoch 14/50\n",
            "50/50 [==============================] - 0s 4ms/step - loss: 0.0259 - accuracy: 0.9936 - val_loss: 0.0371 - val_accuracy: 0.9898\n",
            "Epoch 15/50\n",
            "50/50 [==============================] - 0s 4ms/step - loss: 0.0221 - accuracy: 0.9962 - val_loss: 0.0293 - val_accuracy: 0.9924\n",
            "Epoch 16/50\n",
            "50/50 [==============================] - 0s 4ms/step - loss: 0.0298 - accuracy: 0.9905 - val_loss: 0.0397 - val_accuracy: 0.9898\n",
            "Epoch 17/50\n",
            "50/50 [==============================] - 0s 4ms/step - loss: 0.0201 - accuracy: 0.9956 - val_loss: 0.0180 - val_accuracy: 0.9924\n",
            "Epoch 18/50\n",
            "50/50 [==============================] - 0s 4ms/step - loss: 0.0192 - accuracy: 0.9949 - val_loss: 0.0261 - val_accuracy: 0.9975\n",
            "Epoch 19/50\n",
            "50/50 [==============================] - 0s 4ms/step - loss: 0.0169 - accuracy: 0.9975 - val_loss: 0.0166 - val_accuracy: 0.9924\n",
            "Epoch 20/50\n",
            "50/50 [==============================] - 0s 5ms/step - loss: 0.0177 - accuracy: 0.9924 - val_loss: 0.0153 - val_accuracy: 0.9949\n",
            "Epoch 21/50\n",
            "50/50 [==============================] - 0s 4ms/step - loss: 0.0130 - accuracy: 0.9987 - val_loss: 0.0106 - val_accuracy: 0.9975\n",
            "Epoch 22/50\n",
            "50/50 [==============================] - 0s 5ms/step - loss: 0.0110 - accuracy: 0.9987 - val_loss: 0.0089 - val_accuracy: 1.0000\n",
            "Epoch 23/50\n",
            "50/50 [==============================] - 0s 4ms/step - loss: 0.0104 - accuracy: 0.9987 - val_loss: 0.0099 - val_accuracy: 0.9975\n",
            "Epoch 24/50\n",
            "50/50 [==============================] - 0s 3ms/step - loss: 0.0116 - accuracy: 0.9975 - val_loss: 0.0132 - val_accuracy: 0.9975\n",
            "Epoch 25/50\n",
            "50/50 [==============================] - 0s 3ms/step - loss: 0.0085 - accuracy: 0.9981 - val_loss: 0.0072 - val_accuracy: 1.0000\n",
            "Epoch 26/50\n",
            "50/50 [==============================] - 0s 3ms/step - loss: 0.0088 - accuracy: 0.9987 - val_loss: 0.0081 - val_accuracy: 0.9975\n",
            "Epoch 27/50\n",
            "50/50 [==============================] - 0s 3ms/step - loss: 0.0073 - accuracy: 1.0000 - val_loss: 0.0101 - val_accuracy: 0.9975\n",
            "Epoch 28/50\n",
            "50/50 [==============================] - 0s 3ms/step - loss: 0.0075 - accuracy: 0.9994 - val_loss: 0.0107 - val_accuracy: 0.9975\n",
            "Epoch 29/50\n",
            "50/50 [==============================] - 0s 3ms/step - loss: 0.0070 - accuracy: 0.9987 - val_loss: 0.0206 - val_accuracy: 0.9924\n",
            "Epoch 30/50\n",
            "50/50 [==============================] - 0s 3ms/step - loss: 0.0074 - accuracy: 0.9975 - val_loss: 0.0071 - val_accuracy: 1.0000\n",
            "Epoch 31/50\n",
            "50/50 [==============================] - 0s 3ms/step - loss: 0.0062 - accuracy: 1.0000 - val_loss: 0.0092 - val_accuracy: 0.9975\n",
            "Epoch 32/50\n",
            "50/50 [==============================] - 0s 3ms/step - loss: 0.0053 - accuracy: 0.9987 - val_loss: 0.0064 - val_accuracy: 1.0000\n",
            "Epoch 33/50\n",
            "50/50 [==============================] - 0s 3ms/step - loss: 0.0080 - accuracy: 0.9987 - val_loss: 0.0121 - val_accuracy: 0.9949\n",
            "Epoch 34/50\n",
            "50/50 [==============================] - 0s 3ms/step - loss: 0.0054 - accuracy: 0.9994 - val_loss: 0.0310 - val_accuracy: 0.9873\n",
            "Epoch 35/50\n",
            "50/50 [==============================] - 0s 3ms/step - loss: 0.0034 - accuracy: 1.0000 - val_loss: 0.0044 - val_accuracy: 1.0000\n",
            "Epoch 36/50\n",
            "50/50 [==============================] - 0s 3ms/step - loss: 0.0043 - accuracy: 0.9994 - val_loss: 0.0072 - val_accuracy: 0.9975\n",
            "Epoch 37/50\n",
            "50/50 [==============================] - 0s 3ms/step - loss: 0.0072 - accuracy: 0.9981 - val_loss: 0.0038 - val_accuracy: 1.0000\n",
            "Epoch 38/50\n",
            "50/50 [==============================] - 0s 3ms/step - loss: 0.0032 - accuracy: 0.9994 - val_loss: 0.0070 - val_accuracy: 0.9975\n",
            "Epoch 39/50\n",
            "50/50 [==============================] - 0s 3ms/step - loss: 0.0043 - accuracy: 0.9994 - val_loss: 0.0077 - val_accuracy: 0.9975\n",
            "Epoch 40/50\n",
            "50/50 [==============================] - 0s 3ms/step - loss: 0.0026 - accuracy: 1.0000 - val_loss: 0.0024 - val_accuracy: 1.0000\n",
            "Epoch 41/50\n",
            "50/50 [==============================] - 0s 3ms/step - loss: 0.0034 - accuracy: 0.9987 - val_loss: 0.0031 - val_accuracy: 1.0000\n",
            "Epoch 42/50\n",
            "50/50 [==============================] - 0s 3ms/step - loss: 0.0023 - accuracy: 1.0000 - val_loss: 0.0032 - val_accuracy: 1.0000\n",
            "Epoch 43/50\n",
            "50/50 [==============================] - 0s 3ms/step - loss: 0.0019 - accuracy: 1.0000 - val_loss: 0.0028 - val_accuracy: 1.0000\n",
            "Epoch 44/50\n",
            "50/50 [==============================] - 0s 4ms/step - loss: 0.0022 - accuracy: 1.0000 - val_loss: 0.0044 - val_accuracy: 1.0000\n",
            "Epoch 45/50\n",
            "50/50 [==============================] - 0s 3ms/step - loss: 0.0022 - accuracy: 1.0000 - val_loss: 0.0040 - val_accuracy: 0.9975\n",
            "Epoch 46/50\n",
            "50/50 [==============================] - 0s 3ms/step - loss: 0.0025 - accuracy: 1.0000 - val_loss: 0.0021 - val_accuracy: 1.0000\n",
            "Epoch 47/50\n",
            "50/50 [==============================] - 0s 3ms/step - loss: 0.0018 - accuracy: 1.0000 - val_loss: 0.0060 - val_accuracy: 1.0000\n",
            "Epoch 48/50\n",
            "50/50 [==============================] - 0s 4ms/step - loss: 0.0021 - accuracy: 1.0000 - val_loss: 0.0021 - val_accuracy: 1.0000\n",
            "Epoch 49/50\n",
            "50/50 [==============================] - 0s 3ms/step - loss: 0.0027 - accuracy: 1.0000 - val_loss: 0.0021 - val_accuracy: 1.0000\n",
            "Epoch 50/50\n",
            "50/50 [==============================] - 0s 4ms/step - loss: 0.0024 - accuracy: 1.0000 - val_loss: 0.0028 - val_accuracy: 1.0000\n"
          ]
        },
        {
          "output_type": "execute_result",
          "data": {
            "text/plain": [
              "<keras.src.callbacks.History at 0x79de682a77c0>"
            ]
          },
          "metadata": {},
          "execution_count": 13
        }
      ]
    },
    {
      "cell_type": "code",
      "source": [
        "n, T, f = np_key_points.shape"
      ],
      "metadata": {
        "id": "-Z8uccBzVLjZ"
      },
      "execution_count": null,
      "outputs": []
    },
    {
      "cell_type": "code",
      "source": [
        "# Generate a random vector of length 20 for each dataset\n",
        "random_vectors = np.random.rand(n, 20)\n",
        "\n",
        "# Replicate each vector T times within its dataset\n",
        "embedding_vectors = np.repeat(random_vectors[:, np.newaxis, :], T, axis=1)\n",
        "\n",
        "# new_array is now of shape (n, T, 20)\n",
        "# Each dataset has its own random vector repeated T times\n",
        "embedding_vectors.shape"
      ],
      "metadata": {
        "colab": {
          "base_uri": "https://localhost:8080/"
        },
        "id": "xa8jp11eS8tg",
        "outputId": "a4cd01c4-22b6-4ad6-9d60-17acf8fd238c"
      },
      "execution_count": null,
      "outputs": [
        {
          "output_type": "execute_result",
          "data": {
            "text/plain": [
              "(6, 328, 20)"
            ]
          },
          "metadata": {},
          "execution_count": 12
        }
      ]
    },
    {
      "cell_type": "code",
      "source": [],
      "metadata": {
        "id": "AiPqmY6112Mv"
      },
      "execution_count": null,
      "outputs": []
    },
    {
      "cell_type": "markdown",
      "source": [
        "## Experiment with RNN"
      ],
      "metadata": {
        "id": "3beSjzc0WFL2"
      }
    },
    {
      "cell_type": "code",
      "source": [
        "class TimeSeriesRNN(nn.Module):\n",
        "    def __init__(self, input_size, hidden_size, output_size):\n",
        "        super(TimeSeriesRNN, self).__init__()\n",
        "        self.rnn = nn.GRU(input_size, hidden_size, batch_first=True)\n",
        "        self.fc = nn.Linear(hidden_size, output_size)\n",
        "\n",
        "    def forward(self, x):\n",
        "        out, _ = self.rnn(x)\n",
        "        out = self.fc(out)\n",
        "        return out\n",
        "\n",
        "    def rates(self, x):\n",
        "        out, _ = self.rnn(x)\n",
        "        return out"
      ],
      "metadata": {
        "id": "DsKlNt2IWRX_"
      },
      "execution_count": null,
      "outputs": []
    },
    {
      "cell_type": "code",
      "source": [
        "def get_incremental_data(epoch, max_data_size, step_size, embedding_vectors_tensor, np_key_points_tensor):\n",
        "    # Increase data size with each step until the maximum size is reached\n",
        "    data_size = min(max(int(step_size * epoch), 1), max_data_size)\n",
        "    return embedding_vectors_tensor[:data_size], np_key_points_tensor[:data_size]"
      ],
      "metadata": {
        "id": "P30o5mouWOqI"
      },
      "execution_count": null,
      "outputs": []
    },
    {
      "cell_type": "code",
      "source": [
        "# Initialize the model, loss function, and optimizer\n",
        "input_size = 20\n",
        "hidden_size = 200  # Example value, needs tuning\n",
        "output_size = f   # Number of features in np_key_points\n",
        "\n",
        "model = TimeSeriesRNN(input_size, hidden_size, output_size)\n",
        "criterion = nn.MSELoss()\n",
        "optimizer = optim.AdamW(model.parameters())\n",
        "\n",
        "# Convert data to PyTorch tensors\n",
        "embedding_vectors_tensor = torch.tensor(embedding_vectors, dtype=torch.float32)\n",
        "np_key_points_tensor = torch.tensor(np_key_points, dtype=torch.float32)\n",
        "\n",
        "# Curriculum learning\n",
        "num_epochs = 7500\n",
        "max_data_size = len(embedding_vectors_tensor)\n",
        "step_size = 0.002\n",
        "min_loss = float('inf')\n",
        "min_epoch = None"
      ],
      "metadata": {
        "id": "KMqocc1pD5ik"
      },
      "execution_count": null,
      "outputs": []
    },
    {
      "cell_type": "code",
      "source": [
        "for epoch in tqdm(range(num_epochs)):\n",
        "    break # Training takes 26 minutes. Be careful commenting this break point out.\n",
        "    model.train()\n",
        "    optimizer.zero_grad()\n",
        "\n",
        "    # Get the subset of data for the current epoch\n",
        "    current_emb_vectors, current_key_points = get_incremental_data(epoch, max_data_size, step_size, embedding_vectors_tensor, np_key_points_tensor)\n",
        "\n",
        "    # Forward pass with the current subset of data\n",
        "    output = model(current_emb_vectors)\n",
        "    loss = criterion(output, current_key_points)\n",
        "\n",
        "    # Backward pass and optimize\n",
        "    loss.backward()\n",
        "    optimizer.step()\n",
        "\n",
        "    # Check if the current loss is the lowest\n",
        "    if loss.item() < min_loss and epoch > int(max_data_size/step_size + 10):\n",
        "        min_loss = loss.item()\n",
        "        min_epoch = epoch\n",
        "        torch.save(model.state_dict(), '/content/drive/MyDrive/Keith_Emelie_final/RNN/best_model.pth')\n",
        "\n",
        "    if (epoch + 1) % 500 == 0:\n",
        "        print(f'Epoch [{epoch+1}/{num_epochs}], Loss: {loss.item():.5f}')"
      ],
      "metadata": {
        "colab": {
          "base_uri": "https://localhost:8080/"
        },
        "id": "b0C2LsmgWbjS",
        "outputId": "db96f662-fd37-4542-e2ca-f753be399fda"
      },
      "execution_count": null,
      "outputs": [
        {
          "output_type": "stream",
          "name": "stderr",
          "text": [
            "  7%|▋         | 501/7500 [01:28<18:43,  6.23it/s]"
          ]
        },
        {
          "output_type": "stream",
          "name": "stdout",
          "text": [
            "Epoch [500/7500], Loss: 0.00757\n"
          ]
        },
        {
          "output_type": "stream",
          "name": "stderr",
          "text": [
            " 13%|█▎        | 1000/7500 [02:50<20:42,  5.23it/s]"
          ]
        },
        {
          "output_type": "stream",
          "name": "stdout",
          "text": [
            "Epoch [1000/7500], Loss: 0.00759\n"
          ]
        },
        {
          "output_type": "stream",
          "name": "stderr",
          "text": [
            " 20%|██        | 1501/7500 [04:26<16:51,  5.93it/s]"
          ]
        },
        {
          "output_type": "stream",
          "name": "stdout",
          "text": [
            "Epoch [1500/7500], Loss: 0.00661\n"
          ]
        },
        {
          "output_type": "stream",
          "name": "stderr",
          "text": [
            " 27%|██▋       | 2001/7500 [06:04<16:39,  5.50it/s]"
          ]
        },
        {
          "output_type": "stream",
          "name": "stdout",
          "text": [
            "Epoch [2000/7500], Loss: 0.00802\n"
          ]
        },
        {
          "output_type": "stream",
          "name": "stderr",
          "text": [
            " 33%|███▎      | 2501/7500 [07:52<14:54,  5.59it/s]"
          ]
        },
        {
          "output_type": "stream",
          "name": "stdout",
          "text": [
            "Epoch [2500/7500], Loss: 0.00959\n"
          ]
        },
        {
          "output_type": "stream",
          "name": "stderr",
          "text": [
            " 40%|████      | 3001/7500 [09:39<13:49,  5.42it/s]"
          ]
        },
        {
          "output_type": "stream",
          "name": "stdout",
          "text": [
            "Epoch [3000/7500], Loss: 0.00155\n"
          ]
        },
        {
          "output_type": "stream",
          "name": "stderr",
          "text": [
            " 47%|████▋     | 3501/7500 [11:31<13:03,  5.11it/s]"
          ]
        },
        {
          "output_type": "stream",
          "name": "stdout",
          "text": [
            "Epoch [3500/7500], Loss: 0.00167\n"
          ]
        },
        {
          "output_type": "stream",
          "name": "stderr",
          "text": [
            " 53%|█████▎    | 4001/7500 [13:21<11:13,  5.20it/s]"
          ]
        },
        {
          "output_type": "stream",
          "name": "stdout",
          "text": [
            "Epoch [4000/7500], Loss: 0.00143\n"
          ]
        },
        {
          "output_type": "stream",
          "name": "stderr",
          "text": [
            " 60%|██████    | 4500/7500 [15:12<11:29,  4.35it/s]"
          ]
        },
        {
          "output_type": "stream",
          "name": "stdout",
          "text": [
            "Epoch [4500/7500], Loss: 0.00134\n"
          ]
        },
        {
          "output_type": "stream",
          "name": "stderr",
          "text": [
            " 67%|██████▋   | 5000/7500 [17:06<11:24,  3.65it/s]"
          ]
        },
        {
          "output_type": "stream",
          "name": "stdout",
          "text": [
            "Epoch [5000/7500], Loss: 0.00115\n"
          ]
        },
        {
          "output_type": "stream",
          "name": "stderr",
          "text": [
            " 73%|███████▎  | 5500/7500 [18:57<09:14,  3.60it/s]"
          ]
        },
        {
          "output_type": "stream",
          "name": "stdout",
          "text": [
            "Epoch [5500/7500], Loss: 0.00106\n"
          ]
        },
        {
          "output_type": "stream",
          "name": "stderr",
          "text": [
            " 80%|████████  | 6000/7500 [20:48<06:05,  4.11it/s]"
          ]
        },
        {
          "output_type": "stream",
          "name": "stdout",
          "text": [
            "Epoch [6000/7500], Loss: 0.00107\n"
          ]
        },
        {
          "output_type": "stream",
          "name": "stderr",
          "text": [
            " 87%|████████▋ | 6501/7500 [22:38<03:07,  5.32it/s]"
          ]
        },
        {
          "output_type": "stream",
          "name": "stdout",
          "text": [
            "Epoch [6500/7500], Loss: 0.00085\n"
          ]
        },
        {
          "output_type": "stream",
          "name": "stderr",
          "text": [
            " 93%|█████████▎| 7001/7500 [24:29<01:35,  5.24it/s]"
          ]
        },
        {
          "output_type": "stream",
          "name": "stdout",
          "text": [
            "Epoch [7000/7500], Loss: 0.00078\n"
          ]
        },
        {
          "output_type": "stream",
          "name": "stderr",
          "text": [
            "100%|██████████| 7500/7500 [26:19<00:00,  4.75it/s]"
          ]
        },
        {
          "output_type": "stream",
          "name": "stdout",
          "text": [
            "Epoch [7500/7500], Loss: 0.00075\n"
          ]
        },
        {
          "output_type": "stream",
          "name": "stderr",
          "text": [
            "\n"
          ]
        }
      ]
    },
    {
      "cell_type": "code",
      "source": [
        "print(f'Minimum Loss: {min_loss:.5f}')\n",
        "print(f'Minimum Loss Epoch: {min_epoch}')"
      ],
      "metadata": {
        "id": "x2N8LT5IGN-j",
        "colab": {
          "base_uri": "https://localhost:8080/"
        },
        "outputId": "5805f792-dcc3-4e95-dc97-a2a86aee23c1"
      },
      "execution_count": null,
      "outputs": [
        {
          "output_type": "stream",
          "name": "stdout",
          "text": [
            "Minimum Loss: 0.00072\n",
            "Minimum Loss Epoch: 7486\n"
          ]
        }
      ]
    },
    {
      "cell_type": "markdown",
      "source": [
        "## RNN analysis"
      ],
      "metadata": {
        "id": "yYapdMNemTSa"
      }
    },
    {
      "cell_type": "code",
      "source": [
        "model.load_state_dict(torch.load('/content/drive/MyDrive/Keith_Emelie_final/RNN/best_model.pth'))\n",
        "model.eval()"
      ],
      "metadata": {
        "colab": {
          "base_uri": "https://localhost:8080/"
        },
        "id": "vm_M3IbemSWH",
        "outputId": "07a778b5-6d2f-4607-9cab-63a37ec09c07"
      },
      "execution_count": null,
      "outputs": [
        {
          "output_type": "execute_result",
          "data": {
            "text/plain": [
              "TimeSeriesRNN(\n",
              "  (rnn): GRU(20, 200, batch_first=True)\n",
              "  (fc): Linear(in_features=200, out_features=72, bias=True)\n",
              ")"
            ]
          },
          "metadata": {},
          "execution_count": 18
        }
      ]
    },
    {
      "cell_type": "code",
      "source": [
        "output = model(embedding_vectors_tensor)\n",
        "output = output.detach().numpy()"
      ],
      "metadata": {
        "colab": {
          "base_uri": "https://localhost:8080/"
        },
        "id": "-dXmQpX-nGaK",
        "outputId": "88182bdd-bc46-4520-e730-b740f2c32344"
      },
      "execution_count": null,
      "outputs": [
        {
          "output_type": "execute_result",
          "data": {
            "text/plain": [
              "(328, 72)"
            ]
          },
          "metadata": {},
          "execution_count": 31
        }
      ]
    },
    {
      "cell_type": "code",
      "source": [
        "key_point_name = csv_df_column_names[0][65]\n",
        "\n",
        "plt.plot(output[0, :, 65], label='model')\n",
        "plt.plot(np_key_points_tensor[0, :, 65], label='label')\n",
        "plt.title(f\"Model vs label for key point {key_point_name}\")\n",
        "plt.legend()\n",
        "plt.show()"
      ],
      "metadata": {
        "colab": {
          "base_uri": "https://localhost:8080/",
          "height": 452
        },
        "id": "fJbuKLQ3ncXM",
        "outputId": "9c7c6346-20bf-4137-a79f-334a818531b3"
      },
      "execution_count": null,
      "outputs": [
        {
          "output_type": "display_data",
          "data": {
            "text/plain": [
              "<Figure size 640x480 with 1 Axes>"
            ],
            "image/png": "[encoded data removed]"
          },
          "metadata": {}
        }
      ]
    },
    {
      "cell_type": "code",
      "source": [
        "model_rates = model.rates(embedding_vectors_tensor)\n",
        "model_rates = model_rates.detach().numpy()\n",
        "model_rates.shape"
      ],
      "metadata": {
        "colab": {
          "base_uri": "https://localhost:8080/"
        },
        "id": "3Rkgm202nsQk",
        "outputId": "59585ace-d73b-4b13-a490-614e31108d80"
      },
      "execution_count": null,
      "outputs": [
        {
          "output_type": "execute_result",
          "data": {
            "text/plain": [
              "(6, 328, 200)"
            ]
          },
          "metadata": {},
          "execution_count": 40
        }
      ]
    },
    {
      "cell_type": "code",
      "source": [
        "# Assuming 'rates' is your (6, 328, 200) array\n",
        "# Reshape the data for PCA\n",
        "n_datasets, n_timepoints, n_features = model_rates.shape\n",
        "reshaped_rates = model_rates.reshape(n_datasets * n_timepoints, n_features)\n",
        "\n",
        "# Apply PCA\n",
        "pca = PCA(n_components=3)\n",
        "rates_pca = pca.fit_transform(reshaped_rates)\n",
        "\n",
        "# Reshape the transformed data back for plotting\n",
        "rates_pca_reshaped = rates_pca.reshape(n_datasets, n_timepoints, 3)\n",
        "\n",
        "# Plotting\n",
        "fig = plt.figure(figsize=(10, 8))\n",
        "ax = fig.add_subplot(111, projection='3d')\n",
        "\n",
        "# Plot each dataset in a different color\n",
        "colors = ['r', 'g', 'b', 'y', 'c', 'm']\n",
        "for i in range(n_datasets):\n",
        "    ax.scatter(rates_pca_reshaped[i, :, 0],  # PCA component 1\n",
        "               rates_pca_reshaped[i, :, 1],  # PCA component 2\n",
        "               rates_pca_reshaped[i, :, 2],  # PCA component 3\n",
        "               c=colors[i], label=f'Dataset {i}')\n",
        "\n",
        "ax.set_xlabel('PCA Component 1')\n",
        "ax.set_ylabel('PCA Component 2')\n",
        "ax.set_zlabel('PCA Component 3')\n",
        "ax.legend()\n",
        "plt.title('3D PCA of Neural Rates')\n",
        "plt.show()\n"
      ],
      "metadata": {
        "id": "rhb7QWgVpEyW"
      },
      "execution_count": null,
      "outputs": []
    }
  ]
}