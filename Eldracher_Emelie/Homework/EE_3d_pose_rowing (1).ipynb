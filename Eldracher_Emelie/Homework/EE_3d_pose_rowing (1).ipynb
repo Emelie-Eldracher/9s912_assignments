{
  "nbformat": 4,
  "nbformat_minor": 0,
  "metadata": {
    "colab": {
      "provenance": [],
      "gpuType": "V100"
    },
    "kernelspec": {
      "name": "python3",
      "display_name": "Python 3"
    },
    "language_info": {
      "name": "python"
    },
    "accelerator": "GPU"
  },
  "cells": [
    {
      "cell_type": "code",
      "execution_count": null,
      "metadata": {
        "id": "Axm3SI936RD6"
      },
      "outputs": [],
      "source": [
        "import tensorflow as tf\n",
        "import tensorflow_hub as hub\n",
        "\n",
        "model = hub.load('https://bit.ly/metrabs_l')  # Takes about 3 minutes\n",
        "! wget -q https://istvansarandi.com/eccv22_demo/test.jpg\n"
      ]
    },
    {
      "cell_type": "code",
      "source": [
        "img = tf.image.decode_image(tf.io.read_file('test.jpg'))\n",
        "img = tf.image.decode_image(tf.io.read_file('/content/offset_939720.jpg'))\n",
        "pred = model.detect_poses(img, skeleton='smpl+head_30')\n",
        "pred['poses3d'].shape"
      ],
      "metadata": {
        "id": "mqv_vBLc589j",
        "colab": {
          "base_uri": "https://localhost:8080/",
          "height": 426
        },
        "outputId": "365abebc-b7fb-456e-e332-782b67cdc772"
      },
      "execution_count": null,
      "outputs": [
        {
          "output_type": "error",
          "ename": "NotFoundError",
          "evalue": "ignored",
          "traceback": [
            "\u001b[0;31m---------------------------------------------------------------------------\u001b[0m",
            "\u001b[0;31mNotFoundError\u001b[0m                             Traceback (most recent call last)",
            "\u001b[0;32m<ipython-input-2-bdfa19b69770>\u001b[0m in \u001b[0;36m<cell line: 2>\u001b[0;34m()\u001b[0m\n\u001b[1;32m      1\u001b[0m \u001b[0mimg\u001b[0m \u001b[0;34m=\u001b[0m \u001b[0mtf\u001b[0m\u001b[0;34m.\u001b[0m\u001b[0mimage\u001b[0m\u001b[0;34m.\u001b[0m\u001b[0mdecode_image\u001b[0m\u001b[0;34m(\u001b[0m\u001b[0mtf\u001b[0m\u001b[0;34m.\u001b[0m\u001b[0mio\u001b[0m\u001b[0;34m.\u001b[0m\u001b[0mread_file\u001b[0m\u001b[0;34m(\u001b[0m\u001b[0;34m'test.jpg'\u001b[0m\u001b[0;34m)\u001b[0m\u001b[0;34m)\u001b[0m\u001b[0;34m\u001b[0m\u001b[0;34m\u001b[0m\u001b[0m\n\u001b[0;32m----> 2\u001b[0;31m \u001b[0mimg\u001b[0m \u001b[0;34m=\u001b[0m \u001b[0mtf\u001b[0m\u001b[0;34m.\u001b[0m\u001b[0mimage\u001b[0m\u001b[0;34m.\u001b[0m\u001b[0mdecode_image\u001b[0m\u001b[0;34m(\u001b[0m\u001b[0mtf\u001b[0m\u001b[0;34m.\u001b[0m\u001b[0mio\u001b[0m\u001b[0;34m.\u001b[0m\u001b[0mread_file\u001b[0m\u001b[0;34m(\u001b[0m\u001b[0;34m'/content/offset_939720.jpg'\u001b[0m\u001b[0;34m)\u001b[0m\u001b[0;34m)\u001b[0m\u001b[0;34m\u001b[0m\u001b[0;34m\u001b[0m\u001b[0m\n\u001b[0m\u001b[1;32m      3\u001b[0m \u001b[0mpred\u001b[0m \u001b[0;34m=\u001b[0m \u001b[0mmodel\u001b[0m\u001b[0;34m.\u001b[0m\u001b[0mdetect_poses\u001b[0m\u001b[0;34m(\u001b[0m\u001b[0mimg\u001b[0m\u001b[0;34m,\u001b[0m \u001b[0mskeleton\u001b[0m\u001b[0;34m=\u001b[0m\u001b[0;34m'smpl+head_30'\u001b[0m\u001b[0;34m)\u001b[0m\u001b[0;34m\u001b[0m\u001b[0;34m\u001b[0m\u001b[0m\n\u001b[1;32m      4\u001b[0m \u001b[0mpred\u001b[0m\u001b[0;34m[\u001b[0m\u001b[0;34m'poses3d'\u001b[0m\u001b[0;34m]\u001b[0m\u001b[0;34m.\u001b[0m\u001b[0mshape\u001b[0m\u001b[0;34m\u001b[0m\u001b[0;34m\u001b[0m\u001b[0m\n",
            "\u001b[0;32m/usr/local/lib/python3.10/dist-packages/tensorflow/python/ops/io_ops.py\u001b[0m in \u001b[0;36mread_file\u001b[0;34m(filename, name)\u001b[0m\n\u001b[1;32m    131\u001b[0m     \u001b[0mA\u001b[0m \u001b[0mtensor\u001b[0m \u001b[0mof\u001b[0m \u001b[0mdtype\u001b[0m \u001b[0;34m\"string\"\u001b[0m\u001b[0;34m,\u001b[0m \u001b[0;32mwith\u001b[0m \u001b[0mthe\u001b[0m \u001b[0mfile\u001b[0m \u001b[0mcontents\u001b[0m\u001b[0;34m.\u001b[0m\u001b[0;34m\u001b[0m\u001b[0;34m\u001b[0m\u001b[0m\n\u001b[1;32m    132\u001b[0m   \"\"\"\n\u001b[0;32m--> 133\u001b[0;31m   \u001b[0;32mreturn\u001b[0m \u001b[0mgen_io_ops\u001b[0m\u001b[0;34m.\u001b[0m\u001b[0mread_file\u001b[0m\u001b[0;34m(\u001b[0m\u001b[0mfilename\u001b[0m\u001b[0;34m,\u001b[0m \u001b[0mname\u001b[0m\u001b[0;34m)\u001b[0m\u001b[0;34m\u001b[0m\u001b[0;34m\u001b[0m\u001b[0m\n\u001b[0m\u001b[1;32m    134\u001b[0m \u001b[0;34m\u001b[0m\u001b[0m\n\u001b[1;32m    135\u001b[0m \u001b[0;34m\u001b[0m\u001b[0m\n",
            "\u001b[0;32m/usr/local/lib/python3.10/dist-packages/tensorflow/python/ops/gen_io_ops.py\u001b[0m in \u001b[0;36mread_file\u001b[0;34m(filename, name)\u001b[0m\n\u001b[1;32m    580\u001b[0m       \u001b[0;32mpass\u001b[0m\u001b[0;34m\u001b[0m\u001b[0;34m\u001b[0m\u001b[0m\n\u001b[1;32m    581\u001b[0m     \u001b[0;32mtry\u001b[0m\u001b[0;34m:\u001b[0m\u001b[0;34m\u001b[0m\u001b[0;34m\u001b[0m\u001b[0m\n\u001b[0;32m--> 582\u001b[0;31m       return read_file_eager_fallback(\n\u001b[0m\u001b[1;32m    583\u001b[0m           filename, name=name, ctx=_ctx)\n\u001b[1;32m    584\u001b[0m     \u001b[0;32mexcept\u001b[0m \u001b[0m_core\u001b[0m\u001b[0;34m.\u001b[0m\u001b[0m_SymbolicException\u001b[0m\u001b[0;34m:\u001b[0m\u001b[0;34m\u001b[0m\u001b[0;34m\u001b[0m\u001b[0m\n",
            "\u001b[0;32m/usr/local/lib/python3.10/dist-packages/tensorflow/python/ops/gen_io_ops.py\u001b[0m in \u001b[0;36mread_file_eager_fallback\u001b[0;34m(filename, name, ctx)\u001b[0m\n\u001b[1;32m    603\u001b[0m   \u001b[0m_inputs_flat\u001b[0m \u001b[0;34m=\u001b[0m \u001b[0;34m[\u001b[0m\u001b[0mfilename\u001b[0m\u001b[0;34m]\u001b[0m\u001b[0;34m\u001b[0m\u001b[0;34m\u001b[0m\u001b[0m\n\u001b[1;32m    604\u001b[0m   \u001b[0m_attrs\u001b[0m \u001b[0;34m=\u001b[0m \u001b[0;32mNone\u001b[0m\u001b[0;34m\u001b[0m\u001b[0;34m\u001b[0m\u001b[0m\n\u001b[0;32m--> 605\u001b[0;31m   _result = _execute.execute(b\"ReadFile\", 1, inputs=_inputs_flat,\n\u001b[0m\u001b[1;32m    606\u001b[0m                              attrs=_attrs, ctx=ctx, name=name)\n\u001b[1;32m    607\u001b[0m   \u001b[0;32mif\u001b[0m \u001b[0m_execute\u001b[0m\u001b[0;34m.\u001b[0m\u001b[0mmust_record_gradient\u001b[0m\u001b[0;34m(\u001b[0m\u001b[0;34m)\u001b[0m\u001b[0;34m:\u001b[0m\u001b[0;34m\u001b[0m\u001b[0;34m\u001b[0m\u001b[0m\n",
            "\u001b[0;32m/usr/local/lib/python3.10/dist-packages/tensorflow/python/eager/execute.py\u001b[0m in \u001b[0;36mquick_execute\u001b[0;34m(op_name, num_outputs, inputs, attrs, ctx, name)\u001b[0m\n\u001b[1;32m     51\u001b[0m   \u001b[0;32mtry\u001b[0m\u001b[0;34m:\u001b[0m\u001b[0;34m\u001b[0m\u001b[0;34m\u001b[0m\u001b[0m\n\u001b[1;32m     52\u001b[0m     \u001b[0mctx\u001b[0m\u001b[0;34m.\u001b[0m\u001b[0mensure_initialized\u001b[0m\u001b[0;34m(\u001b[0m\u001b[0;34m)\u001b[0m\u001b[0;34m\u001b[0m\u001b[0;34m\u001b[0m\u001b[0m\n\u001b[0;32m---> 53\u001b[0;31m     tensors = pywrap_tfe.TFE_Py_Execute(ctx._handle, device_name, op_name,\n\u001b[0m\u001b[1;32m     54\u001b[0m                                         inputs, attrs, num_outputs)\n\u001b[1;32m     55\u001b[0m   \u001b[0;32mexcept\u001b[0m \u001b[0mcore\u001b[0m\u001b[0;34m.\u001b[0m\u001b[0m_NotOkStatusException\u001b[0m \u001b[0;32mas\u001b[0m \u001b[0me\u001b[0m\u001b[0;34m:\u001b[0m\u001b[0;34m\u001b[0m\u001b[0;34m\u001b[0m\u001b[0m\n",
            "\u001b[0;31mNotFoundError\u001b[0m: {{function_node __wrapped__ReadFile_device_/job:localhost/replica:0/task:0/device:CPU:0}} /content/offset_939720.jpg; No such file or directory [Op:ReadFile]"
          ]
        }
      ]
    },
    {
      "cell_type": "code",
      "source": [
        "def plot_results(image, pred, joint_names, joint_edges):\n",
        "    import matplotlib.pyplot as plt\n",
        "    from mpl_toolkits.mplot3d import Axes3D\n",
        "    from matplotlib.patches import Rectangle\n",
        "    fig = plt.figure(figsize=(10, 5.2))\n",
        "    image_ax = fig.add_subplot(1, 2, 1)\n",
        "    image_ax.imshow(image.numpy())\n",
        "    for x, y, w, h, c in pred['boxes'].numpy():\n",
        "        image_ax.add_patch(Rectangle((x, y), w, h, fill=False))\n",
        "\n",
        "    pose_ax = fig.add_subplot(1, 2, 2, projection='3d')\n",
        "    pose_ax.view_init(5, -75)\n",
        "    pose_ax.set_xlim3d(-1500, 500)\n",
        "    pose_ax.set_zlim3d(-1500, 500)\n",
        "    pose_ax.set_ylim3d(2000, 5000)\n",
        "    poses3d = pred['poses3d'].numpy()\n",
        "    poses3d[..., 1], poses3d[..., 2] = poses3d[..., 2], -poses3d[..., 1]\n",
        "    for pose3d, pose2d in zip(poses3d, pred['poses2d'].numpy()):\n",
        "        for i_start, i_end in joint_edges:\n",
        "            image_ax.plot(*zip(pose2d[i_start], pose2d[i_end]), marker='o', markersize=2)\n",
        "            pose_ax.plot(*zip(pose3d[i_start], pose3d[i_end]), marker='o', markersize=2)\n",
        "        image_ax.scatter(*pose2d.T, s=2)\n",
        "        pose_ax.scatter(*pose3d.T, s=2)"
      ],
      "metadata": {
        "id": "ZHH5aIC9FEgq"
      },
      "execution_count": null,
      "outputs": []
    },
    {
      "cell_type": "code",
      "source": [
        "joint_names = model.per_skeleton_joint_names['smpl+head_30'].numpy().astype(str)\n",
        "joint_edges = model.per_skeleton_joint_edges['smpl+head_30'].numpy()\n",
        "#plot_results(img, pred, joint_names, joint_edges)"
      ],
      "metadata": {
        "id": "BKz-oYq_HPDq"
      },
      "execution_count": null,
      "outputs": []
    },
    {
      "cell_type": "code",
      "source": [
        "import os\n",
        "from zipfile import ZipFile\n",
        "from IPython.display import Image\n",
        "import numpy as np\n",
        "import csv\n",
        "\n",
        "!unzip -q rowing_poses.zip"
      ],
      "metadata": {
        "colab": {
          "base_uri": "https://localhost:8080/"
        },
        "id": "acbn84rXtZaL",
        "outputId": "b95556c4-9a35-416a-a4e2-1f186ba2047d"
      },
      "execution_count": null,
      "outputs": [
        {
          "output_type": "stream",
          "name": "stdout",
          "text": [
            "unzip:  cannot find or open rowing_poses.zip, rowing_poses.zip.zip or rowing_poses.zip.ZIP.\n"
          ]
        }
      ]
    },
    {
      "cell_type": "code",
      "source": [
        "\n",
        "dataset_in = 'rowing_poses'\n",
        "\n",
        "new_list_keypoints = [\"part_stroke\"]\n",
        "for i in range(len(joint_names)):\n",
        "    new_list_keypoints.append(joint_names[i]+\"_x\")\n",
        "    new_list_keypoints.append(joint_names[i]+\"_y\")\n",
        "    new_list_keypoints.append(joint_names[i]+\"_z\")\n",
        "\n",
        "# Replace 'output_file.csv' with the desired output CSV file name\n",
        "output_file = 'output_file.csv'\n",
        "\n",
        "# Write the list as the header row in the CSV file\n",
        "with open(output_file, mode='w', newline='') as file:\n",
        "    writer = csv.writer(file)\n",
        "    writer.writerow(new_list_keypoints)\n",
        "\n",
        "print(f\"Header row written to {output_file}\")\n",
        "\n",
        "\n",
        "parent_directory = '/content/rowing_poses'\n",
        "\n",
        "for subdir in os.listdir(parent_directory):\n",
        "    subdir_path = os.path.join(parent_directory, subdir)\n",
        "    if os.path.isdir(subdir_path):\n",
        "        print(f\"Processing images in folder: {subdir}\")\n",
        "\n",
        "        # Iterate through image files in each subdirectory\n",
        "        for file in os.listdir(subdir_path):\n",
        "            if file.lower().endswith(('.png', '.jpg', '.jpeg', '.gif', '.bmp')):\n",
        "                image_path = os.path.join(subdir_path, file)\n",
        "\n",
        "                img = tf.image.decode_image(tf.io.read_file(image_path))\n",
        "                pred = model.detect_poses(img, skeleton='smpl+head_30')\n",
        "                #print(pred['poses3d'].numpy()[0])\n",
        "                if pred['poses3d'].numpy().size != 0:\n",
        "                  coords = pred['poses3d'].numpy()[0]\n",
        "                  coordinates_1d = coords.ravel()\n",
        "                  if \"catch\" in str(subdir):\n",
        "                    coordinates_1d = np.insert(coords.ravel(), 0, 1)\n",
        "                  elif \"drive\" in str(subdir):\n",
        "                    coordinates_1d = np.insert(coords.ravel(), 0, 2)\n",
        "                  if \"finish\" in str(subdir):\n",
        "                    coordinates_1d = np.insert(coords.ravel(), 0, 3)\n",
        "                  # output_file = 'output_file.csv'\n",
        "                  with open(output_file, mode='a', newline='') as file:\n",
        "                    writer = csv.writer(file)\n",
        "                    writer.writerow(coordinates_1d)\n",
        "\n",
        "# You can filter the files based on file extensions if necessary\n",
        "#image_extensions = ['.jpg', '.jpeg', '.png', '.gif', '.bmp']\n",
        "#image_files = [f for f in files if any(f.endswith(ext) for ext in image_extensions)]\n"
      ],
      "metadata": {
        "id": "ORpmH_cNAcpU",
        "colab": {
          "base_uri": "https://localhost:8080/"
        },
        "outputId": "109d7b5d-956e-4480-9353-a1d64e20f1d3"
      },
      "execution_count": null,
      "outputs": [
        {
          "output_type": "stream",
          "name": "stdout",
          "text": [
            "Header row written to output_file.csv\n",
            "Processing images in folder: .ipynb_checkpoints\n",
            "Processing images in folder: finish\n",
            "Processing images in folder: mid drive\n",
            "Processing images in folder: catch\n"
          ]
        }
      ]
    },
    {
      "cell_type": "code",
      "source": [
        "import random\n",
        "import pandas as pd\n",
        "input_file = 'output_file.csv'\n",
        "output_file = 'shuffled.csv'\n",
        "\n",
        "\n",
        "sv_data = []\n",
        "with open(input_file, mode='r', newline='') as file:\n",
        "    reader = csv.reader(file)\n",
        "    csv_data = list(reader)\n",
        "\n",
        "# Extract the header (first row)\n",
        "header = csv_data[0]\n",
        "\n",
        "# Shuffle the rows (excluding the first row)\n",
        "shuffled_data = random.sample(csv_data[1:], len(csv_data) - 1)\n",
        "\n",
        "# Insert the header at the beginning\n",
        "shuffled_data.insert(0, header)\n",
        "\n",
        "# Write the shuffled data back to a new CSV file\n",
        "with open(output_file, mode='w', newline='') as file:\n",
        "    writer = csv.writer(file)\n",
        "    writer.writerows(shuffled_data)\n",
        "\n",
        "print(f\"Rows shuffled and saved to {output_file}\")"
      ],
      "metadata": {
        "colab": {
          "base_uri": "https://localhost:8080/",
          "height": 246
        },
        "id": "4RIWMXMp21in",
        "outputId": "de15724b-293d-4518-c05d-41e5dc210431"
      },
      "execution_count": null,
      "outputs": [
        {
          "output_type": "error",
          "ename": "FileNotFoundError",
          "evalue": "ignored",
          "traceback": [
            "\u001b[0;31m---------------------------------------------------------------------------\u001b[0m",
            "\u001b[0;31mFileNotFoundError\u001b[0m                         Traceback (most recent call last)",
            "\u001b[0;32m<ipython-input-1-90a849c3bc1e>\u001b[0m in \u001b[0;36m<cell line: 8>\u001b[0;34m()\u001b[0m\n\u001b[1;32m      6\u001b[0m \u001b[0;34m\u001b[0m\u001b[0m\n\u001b[1;32m      7\u001b[0m \u001b[0msv_data\u001b[0m \u001b[0;34m=\u001b[0m \u001b[0;34m[\u001b[0m\u001b[0;34m]\u001b[0m\u001b[0;34m\u001b[0m\u001b[0;34m\u001b[0m\u001b[0m\n\u001b[0;32m----> 8\u001b[0;31m \u001b[0;32mwith\u001b[0m \u001b[0mopen\u001b[0m\u001b[0;34m(\u001b[0m\u001b[0minput_file\u001b[0m\u001b[0;34m,\u001b[0m \u001b[0mmode\u001b[0m\u001b[0;34m=\u001b[0m\u001b[0;34m'r'\u001b[0m\u001b[0;34m,\u001b[0m \u001b[0mnewline\u001b[0m\u001b[0;34m=\u001b[0m\u001b[0;34m''\u001b[0m\u001b[0;34m)\u001b[0m \u001b[0;32mas\u001b[0m \u001b[0mfile\u001b[0m\u001b[0;34m:\u001b[0m\u001b[0;34m\u001b[0m\u001b[0;34m\u001b[0m\u001b[0m\n\u001b[0m\u001b[1;32m      9\u001b[0m     \u001b[0mreader\u001b[0m \u001b[0;34m=\u001b[0m \u001b[0mcsv\u001b[0m\u001b[0;34m.\u001b[0m\u001b[0mreader\u001b[0m\u001b[0;34m(\u001b[0m\u001b[0mfile\u001b[0m\u001b[0;34m)\u001b[0m\u001b[0;34m\u001b[0m\u001b[0;34m\u001b[0m\u001b[0m\n\u001b[1;32m     10\u001b[0m     \u001b[0mcsv_data\u001b[0m \u001b[0;34m=\u001b[0m \u001b[0mlist\u001b[0m\u001b[0;34m(\u001b[0m\u001b[0mreader\u001b[0m\u001b[0;34m)\u001b[0m\u001b[0;34m\u001b[0m\u001b[0;34m\u001b[0m\u001b[0m\n",
            "\u001b[0;31mFileNotFoundError\u001b[0m: [Errno 2] No such file or directory: 'output_file.csv'"
          ]
        }
      ]
    },
    {
      "cell_type": "code",
      "source": [
        "data = pd.read_csv('shuffled.csv')"
      ],
      "metadata": {
        "id": "V07_JjFs7Xgb"
      },
      "execution_count": null,
      "outputs": []
    },
    {
      "cell_type": "code",
      "source": [
        "from sklearn.model_selection import train_test_split\n",
        "\n",
        "# Specify the ratio for the test set (e.g., 20%)\n",
        "test_size = 0.2\n",
        "\n",
        "# Split the data into training and test sets\n",
        "train_data, test_data = train_test_split(data, test_size=test_size, random_state=42)\n"
      ],
      "metadata": {
        "id": "5loVmLtM7alZ"
      },
      "execution_count": null,
      "outputs": []
    },
    {
      "cell_type": "code",
      "source": [
        "# Save the training dataset to a CSV file\n",
        "train_data.to_csv('train_data.csv', index=False)\n",
        "\n",
        "# Save the test dataset to a CSV file\n",
        "test_data.to_csv('test_data.csv', index=False)"
      ],
      "metadata": {
        "id": "z9KWxrnV7dgQ"
      },
      "execution_count": null,
      "outputs": []
    },
    {
      "cell_type": "code",
      "source": [
        "import torch\n",
        "from torch.utils.data import Dataset\n",
        "from torchvision import datasets\n",
        "from torchvision.transforms import ToTensor\n",
        "import matplotlib.pyplot as plt\n",
        "\n",
        "import pandas as pd\n",
        "# Replace 'train_data.csv' with the path to your training CSV file\n",
        "data = pd.read_csv('train_data.csv')\n",
        "features = data.iloc[:, 1:].values\n",
        "labels = data.iloc[:, 0].values\n",
        "features_tensor = torch.from_numpy(features).float()\n",
        "labels_tensor = torch.from_numpy(labels).long()\n",
        "\n",
        "data_test = pd.read_csv('test_data.csv')\n",
        "features_test = data_test.iloc[:, 1:].values\n",
        "labels_test = data_test.iloc[:, 0].values\n",
        "features_tensor_test = torch.from_numpy(features_test).float()\n",
        "labels_tensor_test = torch.from_numpy(labels_test).long()\n",
        "\n",
        "print(labels_tensor)\n",
        "print(len(labels_tensor))\n",
        "print(features_tensor)\n",
        "print(len(features_tensor))\n",
        "\n",
        "print(labels_tensor_test)\n",
        "print(len(labels_tensor_test))\n",
        "print(features_tensor_test)\n",
        "print(len(features_tensor_test))"
      ],
      "metadata": {
        "colab": {
          "base_uri": "https://localhost:8080/"
        },
        "id": "vfGKTypF566T",
        "outputId": "d0be1730-85a8-4922-cd96-3b00c21b04e0"
      },
      "execution_count": null,
      "outputs": [
        {
          "output_type": "stream",
          "name": "stdout",
          "text": [
            "tensor([2, 3, 2,  ..., 2, 1, 1])\n",
            "1475\n",
            "tensor([[ 337.2856,  228.5036, 1422.8162,  ...,  293.5655, -413.2748,\n",
            "         1218.6760],\n",
            "        [  17.3932,  269.0455, 1861.6123,  ...,  -14.3467, -478.2838,\n",
            "         1745.6680],\n",
            "        [-197.2304,  268.7943, 1348.1666,  ..., -191.8648, -494.8490,\n",
            "         1244.8445],\n",
            "        ...,\n",
            "        [-164.3601,  178.7300, 1417.1936,  ..., -142.7348, -452.8836,\n",
            "         1239.1345],\n",
            "        [-145.4922,  301.2944, 1743.7019,  ...,   67.7341, -308.0495,\n",
            "         1801.5110],\n",
            "        [ -35.2915,   -4.2309, 1731.9574,  ...,  -39.5331, -488.9044,\n",
            "         1294.4080]])\n",
            "1475\n",
            "tensor([1, 2, 3, 2, 2, 1, 1, 1, 1, 1, 1, 3, 2, 2, 1, 3, 1, 3, 3, 3, 1, 1, 1, 3,\n",
            "        1, 1, 3, 1, 2, 3, 2, 1, 2, 2, 3, 1, 1, 2, 1, 1, 2, 2, 1, 2, 2, 1, 2, 1,\n",
            "        2, 2, 2, 3, 2, 1, 2, 2, 3, 2, 1, 1, 1, 3, 2, 2, 3, 1, 2, 1, 1, 3, 3, 1,\n",
            "        3, 2, 2, 2, 3, 3, 3, 3, 2, 2, 2, 2, 2, 3, 1, 3, 2, 2, 3, 3, 2, 3, 3, 3,\n",
            "        2, 3, 2, 3, 1, 1, 2, 1, 3, 2, 3, 3, 3, 3, 2, 2, 1, 2, 1, 2, 3, 2, 3, 2,\n",
            "        2, 1, 3, 3, 2, 2, 2, 1, 3, 2, 1, 1, 1, 2, 2, 1, 1, 2, 1, 2, 1, 2, 2, 2,\n",
            "        1, 1, 2, 2, 3, 2, 2, 1, 1, 1, 2, 3, 2, 1, 2, 2, 1, 1, 2, 2, 1, 3, 2, 1,\n",
            "        1, 2, 2, 2, 1, 3, 3, 3, 2, 2, 1, 3, 3, 1, 1, 3, 1, 1, 2, 1, 3, 2, 3, 1,\n",
            "        3, 2, 1, 3, 2, 1, 3, 2, 3, 1, 2, 3, 1, 3, 1, 2, 2, 1, 2, 2, 2, 2, 1, 1,\n",
            "        1, 3, 3, 1, 3, 2, 1, 2, 1, 3, 2, 2, 3, 2, 3, 2, 2, 2, 1, 1, 3, 2, 3, 2,\n",
            "        2, 3, 1, 2, 1, 2, 3, 2, 2, 3, 2, 2, 2, 1, 3, 1, 2, 2, 3, 2, 3, 1, 3, 2,\n",
            "        3, 3, 3, 1, 2, 1, 1, 1, 3, 1, 3, 3, 1, 2, 2, 1, 2, 3, 2, 2, 3, 2, 2, 2,\n",
            "        3, 1, 1, 3, 3, 3, 1, 2, 1, 1, 2, 2, 3, 2, 1, 3, 3, 3, 2, 2, 3, 1, 3, 1,\n",
            "        1, 1, 3, 3, 2, 2, 2, 2, 2, 1, 3, 3, 1, 2, 1, 2, 3, 3, 1, 2, 2, 3, 1, 2,\n",
            "        2, 2, 3, 3, 2, 1, 1, 1, 1, 3, 2, 1, 1, 3, 2, 1, 3, 2, 2, 1, 2, 3, 2, 1,\n",
            "        1, 1, 2, 2, 3, 1, 1, 3, 2])\n",
            "369\n",
            "tensor([[-246.4904,  151.2267, 1192.4675,  ..., -221.1198, -494.3521,\n",
            "         1069.6394],\n",
            "        [ 225.3284,  329.0974, 1496.8477,  ...,  379.0638, -380.6008,\n",
            "         1443.6482],\n",
            "        [-279.3609,  181.6957, 1244.6848,  ..., -387.9590, -484.9453,\n",
            "         1014.8160],\n",
            "        ...,\n",
            "        [ 618.6364,  581.7538, 2659.1711,  ...,  587.7802,  -97.1280,\n",
            "         2619.9976],\n",
            "        [ 764.1965,   53.0365, 2458.4402,  ...,  912.4761, -622.9217,\n",
            "         2329.0872],\n",
            "        [ 307.8716,  223.8468, 1312.6263,  ...,  290.6326, -466.9294,\n",
            "         1377.6155]])\n",
            "369\n"
          ]
        }
      ]
    },
    {
      "cell_type": "code",
      "source": [
        "import torch\n",
        "import torch.nn as nn\n",
        "\n",
        "class DeepNN(nn.Module):\n",
        "    def __init__(self, input_size, hidden_size1, hidden_size2, num_classes):\n",
        "        super(DeepNN, self).__init__()\n",
        "        self.fc1 = nn.Linear(input_size, hidden_size1)\n",
        "        self.relu1 = nn.ReLU()\n",
        "        self.fc2 = nn.Linear(hidden_size1, hidden_size2)\n",
        "        self.relu2 = nn.ReLU()\n",
        "        self.fc3 = nn.Linear(hidden_size2, num_classes)\n",
        "\n",
        "    def forward(self, x):\n",
        "        out = self.fc1(x)\n",
        "        out = self.relu1(out)\n",
        "        out = self.fc2(out)\n",
        "        out = self.relu2(out)\n",
        "        out = self.fc3(out)\n",
        "        return out"
      ],
      "metadata": {
        "id": "lRT_-wovC-Ph"
      },
      "execution_count": null,
      "outputs": []
    },
    {
      "cell_type": "code",
      "source": [
        "learning_rate = 0.001\n",
        "num_epochs = 35\n",
        "batch_size = 36"
      ],
      "metadata": {
        "id": "e028bPRtDUv7"
      },
      "execution_count": null,
      "outputs": []
    },
    {
      "cell_type": "code",
      "source": [
        "model = DeepNN(90, 128, 128, 4)\n",
        "criterion = nn.CrossEntropyLoss()\n",
        "optimizer = torch.optim.Adam(model.parameters(), lr=learning_rate)\n",
        "#optimizer = torch.optim.SGD(model.parameters(), lr=0.01, momentum=0.9)"
      ],
      "metadata": {
        "id": "6bqm0BalDV3F"
      },
      "execution_count": null,
      "outputs": []
    },
    {
      "cell_type": "code",
      "source": [
        "from torch.utils.data import TensorDataset, DataLoader\n",
        "\n",
        "dataset = TensorDataset(features_tensor, labels_tensor)\n",
        "train_loader = DataLoader(dataset, batch_size=batch_size, shuffle=True)"
      ],
      "metadata": {
        "id": "KVFMA00VD59R"
      },
      "execution_count": null,
      "outputs": []
    },
    {
      "cell_type": "code",
      "source": [
        "losses = []\n",
        "train_accuracies = []\n",
        "\n",
        "for epoch in range(num_epochs):\n",
        "    model.train()\n",
        "    running_loss = 0.0\n",
        "    correct = 0\n",
        "    total = 0\n",
        "\n",
        "    for inputs, labels in train_loader:  # Assuming you have a train_loader\n",
        "        optimizer.zero_grad()\n",
        "        outputs = model(inputs)\n",
        "        _, predicted = torch.max(outputs, 1)\n",
        "        loss = criterion(outputs, labels)\n",
        "        loss.backward()\n",
        "        optimizer.step()\n",
        "        running_loss += loss.item()\n",
        "        correct += (predicted == labels).sum().item()\n",
        "        total += labels.size(0)\n",
        "\n",
        "    accuracy = 100 * correct / total\n",
        "    train_accuracies.append(accuracy)\n",
        "\n",
        "    # Calculate the average loss for the epoch\n",
        "    avg_loss = running_loss / len(train_loader)\n",
        "    losses.append(avg_loss)\n",
        "\n",
        "    print(f'Epoch [{epoch+1}/{num_epochs}], Loss: {avg_loss:.4f}')\n",
        "\n",
        "# Visualize the training loss\n",
        "plt.plot(losses)\n",
        "plt.title('Training Loss')\n",
        "plt.xlabel('Epoch')\n",
        "plt.ylabel('Loss')\n",
        "plt.grid(True)\n",
        "plt.show()\n",
        "\n",
        "plt.plot(train_accuracies)\n",
        "plt.title('Training Accuracy')\n",
        "plt.xlabel('Epoch')\n",
        "plt.ylabel('Accuracy (%)')\n",
        "plt.grid(True)\n",
        "plt.show()\n",
        "print(train_accuracies[-1])"
      ],
      "metadata": {
        "colab": {
          "base_uri": "https://localhost:8080/",
          "height": 1000
        },
        "id": "Dr0sQz0d3dPO",
        "outputId": "83187958-0c7d-44c9-d061-76ed76292de6"
      },
      "execution_count": null,
      "outputs": [
        {
          "output_type": "stream",
          "name": "stdout",
          "text": [
            "Epoch [1/35], Loss: 9.6011\n",
            "Epoch [2/35], Loss: 2.5966\n",
            "Epoch [3/35], Loss: 1.1003\n",
            "Epoch [4/35], Loss: 1.2862\n",
            "Epoch [5/35], Loss: 0.9670\n",
            "Epoch [6/35], Loss: 0.9303\n",
            "Epoch [7/35], Loss: 0.8031\n",
            "Epoch [8/35], Loss: 0.6316\n",
            "Epoch [9/35], Loss: 0.9328\n",
            "Epoch [10/35], Loss: 0.8499\n",
            "Epoch [11/35], Loss: 0.6364\n",
            "Epoch [12/35], Loss: 0.5211\n",
            "Epoch [13/35], Loss: 0.3328\n",
            "Epoch [14/35], Loss: 0.7257\n",
            "Epoch [15/35], Loss: 0.4728\n",
            "Epoch [16/35], Loss: 0.4611\n",
            "Epoch [17/35], Loss: 0.4480\n",
            "Epoch [18/35], Loss: 0.3782\n",
            "Epoch [19/35], Loss: 0.2996\n",
            "Epoch [20/35], Loss: 0.3983\n",
            "Epoch [21/35], Loss: 0.3823\n",
            "Epoch [22/35], Loss: 0.2943\n",
            "Epoch [23/35], Loss: 0.5804\n",
            "Epoch [24/35], Loss: 0.5229\n",
            "Epoch [25/35], Loss: 0.3369\n",
            "Epoch [26/35], Loss: 0.2479\n",
            "Epoch [27/35], Loss: 0.2589\n",
            "Epoch [28/35], Loss: 0.2388\n",
            "Epoch [29/35], Loss: 0.2233\n",
            "Epoch [30/35], Loss: 0.2816\n",
            "Epoch [31/35], Loss: 0.2003\n",
            "Epoch [32/35], Loss: 0.1757\n",
            "Epoch [33/35], Loss: 0.1895\n",
            "Epoch [34/35], Loss: 0.1661\n",
            "Epoch [35/35], Loss: 0.1787\n"
          ]
        },
        {
          "output_type": "display_data",
          "data": {
            "text/plain": [
              "<Figure size 640x480 with 1 Axes>"
            ],
            "image/png": "[encoded data removed]"
          },
          "metadata": {}
        },
        {
          "output_type": "display_data",
          "data": {
            "text/plain": [
              "<Figure size 640x480 with 1 Axes>"
            ],
            "image/png": "[encoded data removed]"
          },
          "metadata": {}
        },
        {
          "output_type": "stream",
          "name": "stdout",
          "text": [
            "94.64406779661017\n"
          ]
        }
      ]
    },
    {
      "cell_type": "code",
      "source": [
        "model.eval()  # Set the model to evaluation mode\n",
        "\n",
        "correct = 0\n",
        "total = 0\n",
        "features_tensor_test = torch.tensor(features_test, dtype=torch.float32)\n",
        "labels_tensor_test = torch.tensor(labels_test, dtype=torch.long)\n",
        "dataset_test = TensorDataset(features_tensor_test, labels_tensor_test)\n",
        "test_loader = DataLoader(dataset_test, batch_size=batch_size, shuffle=True)\n",
        "\n",
        "# Iterate through the test data\n",
        "with torch.no_grad():\n",
        "    for inputs, labels in test_loader:\n",
        "        outputs = model(inputs)\n",
        "        _, predicted = torch.max(outputs, 1)\n",
        "        total += labels.size(0)\n",
        "        correct += (predicted == labels).sum().item()\n",
        "\n",
        "accuracy = 100 * correct / total\n",
        "print(f'Accuracy on the test data: {accuracy:.2f}%')"
      ],
      "metadata": {
        "colab": {
          "base_uri": "https://localhost:8080/"
        },
        "id": "kzYmmwzUE52e",
        "outputId": "7cab2fb7-a517-4eb1-8ed7-e40b61f61407"
      },
      "execution_count": null,
      "outputs": [
        {
          "output_type": "stream",
          "name": "stdout",
          "text": [
            "Accuracy on the test data: 89.43%\n"
          ]
        }
      ]
    },
    {
      "cell_type": "code",
      "source": [
        "model.eval()\n",
        "predicted_labels = []\n",
        "true_labels = []\n",
        "from sklearn.metrics import confusion_matrix\n",
        "import seaborn as sns\n",
        "\n",
        "with torch.no_grad():\n",
        "    for inputs, labels in test_loader:  # Assuming you have a test_loader\n",
        "        outputs = model(inputs)\n",
        "        _, predicted = torch.max(outputs, 1)\n",
        "        predicted_labels.extend(predicted.cpu().numpy())\n",
        "        true_labels.extend(labels.cpu().numpy())\n",
        "\n",
        "# Calculate the confusion matrix\n",
        "cm = confusion_matrix(true_labels, predicted_labels)\n",
        "\n",
        "# Plot the confusion matrix\n",
        "plt.figure(figsize=(8, 6))\n",
        "sns.heatmap(cm, annot=True, fmt=\"d\", cmap=\"Blues\", xticklabels=range(3), yticklabels=range(3))\n",
        "plt.xlabel(\"Predicted\")\n",
        "plt.ylabel(\"True\")\n",
        "plt.title(\"Confusion Matrix\")\n",
        "plt.show()"
      ],
      "metadata": {
        "colab": {
          "base_uri": "https://localhost:8080/",
          "height": 564
        },
        "id": "K-a5nXQ_OYbt",
        "outputId": "2ab9fecc-5501-4b56-a64a-58c6570c5255"
      },
      "execution_count": null,
      "outputs": [
        {
          "output_type": "display_data",
          "data": {
            "text/plain": [
              "<Figure size 800x600 with 2 Axes>"
            ],
            "image/png": "[encoded data removed]"
          },
          "metadata": {}
        }
      ]
    },
    {
      "cell_type": "code",
      "source": [
        "import torch\n",
        "import torch.nn as nn\n",
        "import torch.optim as optim\n",
        "from torch.quantization import quantize_dynamic\n",
        "from sklearn.metrics import accuracy_score\n",
        "\n",
        "# Define the neural network architecture and other settings (as shown in the previous responses)\n",
        "\n",
        "# ... Training the original model ...\n",
        "\n",
        "# Quantize the model\n",
        "quantized_model = quantize_dynamic(model, dtype=torch.qint8)\n",
        "\n",
        "# Evaluate the original model on the test data\n",
        "model.eval()\n",
        "model_predicted = []\n",
        "model_true = []\n",
        "\n",
        "with torch.no_grad():\n",
        "    for inputs, labels in test_loader:  # Assuming you have a test_loader\n",
        "        outputs = model(inputs)\n",
        "        _, predicted = torch.max(outputs, 1)\n",
        "        model_predicted.extend(predicted.cpu().numpy())\n",
        "        model_true.extend(labels.cpu().numpy())\n",
        "\n",
        "model_accuracy = accuracy_score(model_true, model_predicted)\n",
        "\n",
        "# Evaluate the quantized model on the test data\n",
        "quantized_model.eval()\n",
        "quantized_model_predicted = []\n",
        "quantized_model_true = []\n",
        "\n",
        "with torch.no_grad():\n",
        "    for inputs, labels in test_loader:  # Assuming you have a test_loader\n",
        "        outputs = quantized_model(inputs)\n",
        "        _, predicted = torch.max(outputs, 1)\n",
        "        quantized_model_predicted.extend(predicted.cpu().numpy())\n",
        "        quantized_model_true.extend(labels.cpu().numpy())\n",
        "\n",
        "quantized_model_accuracy = accuracy_score(quantized_model_true, quantized_model_predicted)\n",
        "\n",
        "# Print the accuracies of the original and quantized models\n",
        "print(f\"Original Model Accuracy: {model_accuracy:.2f}\")\n",
        "print(f\"Quantized Model Accuracy: {quantized_model_accuracy:.2f}\")\n",
        "\n",
        "# Calculate and print the difference in accuracy\n",
        "accuracy_difference = model_accuracy - quantized_model_accuracy\n",
        "print(f\"Accuracy Difference: {accuracy_difference:.2f}\")\n",
        "\n",
        "\n",
        "\n",
        "\n",
        "\n"
      ],
      "metadata": {
        "colab": {
          "base_uri": "https://localhost:8080/"
        },
        "id": "lDD1EiImmz7d",
        "outputId": "c9369c28-cf4b-4549-8c00-9d988712c807"
      },
      "execution_count": null,
      "outputs": [
        {
          "output_type": "stream",
          "name": "stdout",
          "text": [
            "Original Model Accuracy: 0.89\n",
            "Quantized Model Accuracy: 0.88\n",
            "Accuracy Difference: 0.01\n"
          ]
        }
      ]
    },
    {
      "cell_type": "code",
      "source": [
        "import sys\n",
        "\n",
        "quantized_model = quantize_dynamic(model, dtype=torch.qint8)\n",
        "\n",
        "# Calculate the size of the original model\n",
        "original_model_size = sys.getsizeof(model)\n",
        "\n",
        "# Calculate the size of the quantized model\n",
        "quantized_model_size = sys.getsizeof(quantized_model)\n",
        "\n",
        "print(f\"Original model size: {original_model_size / 1e6} MB\")\n",
        "print(f\"Quantized model size: {quantized_model_size / 1e6} MB\")"
      ],
      "metadata": {
        "colab": {
          "base_uri": "https://localhost:8080/"
        },
        "id": "lUSIGLsToAke",
        "outputId": "0c6a7d4b-63de-4fc6-c47d-374f7135e7e5"
      },
      "execution_count": null,
      "outputs": [
        {
          "output_type": "stream",
          "name": "stdout",
          "text": [
            "Original model size: 4.8e-05 MB\n",
            "Quantized model size: 4.8e-05 MB\n"
          ]
        }
      ]
    },
    {
      "cell_type": "code",
      "source": [
        "original_model_size_kb = sys.getsizeof(model) / 1024\n",
        "\n",
        "# Calculate the size of the quantized model in KB\n",
        "quantized_model_size_kb = sys.getsizeof(quantized_model) / 1024\n",
        "\n",
        "print(f\"Original model size: {original_model_size_kb} KB\")\n",
        "print(f\"Quantized model size: {quantized_model_size_kb} KB\")"
      ],
      "metadata": {
        "colab": {
          "base_uri": "https://localhost:8080/"
        },
        "id": "Paeno8nytMvF",
        "outputId": "9c167534-512b-4481-f5fe-fba236c71e00"
      },
      "execution_count": null,
      "outputs": [
        {
          "output_type": "stream",
          "name": "stdout",
          "text": [
            "Original model size: 0.046875 KB\n",
            "Quantized model size: 0.046875 KB\n"
          ]
        }
      ]
    },
    {
      "cell_type": "code",
      "source": [
        "!pip install torchviz"
      ],
      "metadata": {
        "colab": {
          "base_uri": "https://localhost:8080/"
        },
        "id": "GrfTvQe63Z1B",
        "outputId": "8d4ed534-4e96-498a-a3ae-073928036eff"
      },
      "execution_count": null,
      "outputs": [
        {
          "output_type": "stream",
          "name": "stdout",
          "text": [
            "Collecting torchviz\n",
            "  Downloading torchviz-0.0.2.tar.gz (4.9 kB)\n",
            "  Preparing metadata (setup.py) ... \u001b[?25l\u001b[?25hdone\n",
            "Requirement already satisfied: torch in /usr/local/lib/python3.10/dist-packages (from torchviz) (2.0.1+cu118)\n",
            "Requirement already satisfied: graphviz in /usr/local/lib/python3.10/dist-packages (from torchviz) (0.20.1)\n",
            "Requirement already satisfied: filelock in /usr/local/lib/python3.10/dist-packages (from torch->torchviz) (3.12.4)\n",
            "Requirement already satisfied: typing-extensions in /usr/local/lib/python3.10/dist-packages (from torch->torchviz) (4.5.0)\n",
            "Requirement already satisfied: sympy in /usr/local/lib/python3.10/dist-packages (from torch->torchviz) (1.12)\n",
            "Requirement already satisfied: networkx in /usr/local/lib/python3.10/dist-packages (from torch->torchviz) (3.1)\n",
            "Requirement already satisfied: jinja2 in /usr/local/lib/python3.10/dist-packages (from torch->torchviz) (3.1.2)\n",
            "Requirement already satisfied: triton==2.0.0 in /usr/local/lib/python3.10/dist-packages (from torch->torchviz) (2.0.0)\n",
            "Requirement already satisfied: cmake in /usr/local/lib/python3.10/dist-packages (from triton==2.0.0->torch->torchviz) (3.27.6)\n",
            "Requirement already satisfied: lit in /usr/local/lib/python3.10/dist-packages (from triton==2.0.0->torch->torchviz) (17.0.2)\n",
            "Requirement already satisfied: MarkupSafe>=2.0 in /usr/local/lib/python3.10/dist-packages (from jinja2->torch->torchviz) (2.1.3)\n",
            "Requirement already satisfied: mpmath>=0.19 in /usr/local/lib/python3.10/dist-packages (from sympy->torch->torchviz) (1.3.0)\n",
            "Building wheels for collected packages: torchviz\n",
            "  Building wheel for torchviz (setup.py) ... \u001b[?25l\u001b[?25hdone\n",
            "  Created wheel for torchviz: filename=torchviz-0.0.2-py3-none-any.whl size=4130 sha256=5aa4e17f20b52f62108e82ba375806ba3939190a48fb616776dbf4025ccb1f58\n",
            "  Stored in directory: /root/.cache/pip/wheels/4c/97/88/a02973217949e0db0c9f4346d154085f4725f99c4f15a87094\n",
            "Successfully built torchviz\n",
            "Installing collected packages: torchviz\n",
            "Successfully installed torchviz-0.0.2\n"
          ]
        }
      ]
    },
    {
      "cell_type": "code",
      "source": [
        "from torchviz import make_dot"
      ],
      "metadata": {
        "id": "yxKijREz3bzB"
      },
      "execution_count": null,
      "outputs": []
    },
    {
      "cell_type": "code",
      "source": [
        "model = DeepNN(90, 128, 128, 4)\n",
        "y = model(features_tensor_test)\n",
        "make_dot(y.mean(), params=dict(model.named_parameters()))\n"
      ],
      "metadata": {
        "colab": {
          "base_uri": "https://localhost:8080/",
          "height": 821
        },
        "id": "j6MnzKHM3gHe",
        "outputId": "3c75e5b1-2cdb-4b81-aa3d-b9635a3c7ad5"
      },
      "execution_count": null,
      "outputs": [
        {
          "output_type": "execute_result",
          "data": {
            "image/svg+xml": "<?xml version=\"1.0\" encoding=\"UTF-8\" standalone=\"no\"?>\n<!DOCTYPE svg PUBLIC \"-//W3C//DTD SVG 1.1//EN\"\n \"http://www.w3.org/Graphics/SVG/1.1/DTD/svg11.dtd\">\n<!-- Generated by graphviz version 2.43.0 (0)\n -->\n<!-- Title: %3 Pages: 1 -->\n<svg width=\"412pt\" height=\"600pt\"\n viewBox=\"0.00 0.00 412.00 600.00\" xmlns=\"http://www.w3.org/2000/svg\" xmlns:xlink=\"http://www.w3.org/1999/xlink\">\n<g id=\"graph0\" class=\"graph\" transform=\"scale(1 1) rotate(0) translate(4 596)\">\n<title>%3</title>\n<polygon fill=\"white\" stroke=\"transparent\" points=\"-4,4 -4,-596 408,-596 408,4 -4,4\"/>\n<!-- 133576645276704 -->\n<g id=\"node1\" class=\"node\">\n<title>133576645276704</title>\n<polygon fill=\"#caff70\" stroke=\"black\" points=\"221.5,-31 167.5,-31 167.5,0 221.5,0 221.5,-31\"/>\n<text text-anchor=\"middle\" x=\"194.5\" y=\"-7\" font-family=\"monospace\" font-size=\"10.00\"> ()</text>\n</g>\n<!-- 133576645599984 -->\n<g id=\"node2\" class=\"node\">\n<title>133576645599984</title>\n<polygon fill=\"lightgrey\" stroke=\"black\" points=\"242,-86 147,-86 147,-67 242,-67 242,-86\"/>\n<text text-anchor=\"middle\" x=\"194.5\" y=\"-74\" font-family=\"monospace\" font-size=\"10.00\">MeanBackward0</text>\n</g>\n<!-- 133576645599984&#45;&gt;133576645276704 -->\n<g id=\"edge21\" class=\"edge\">\n<title>133576645599984&#45;&gt;133576645276704</title>\n<path fill=\"none\" stroke=\"black\" d=\"M194.5,-66.79C194.5,-60.07 194.5,-50.4 194.5,-41.34\"/>\n<polygon fill=\"black\" stroke=\"black\" points=\"198,-41.19 194.5,-31.19 191,-41.19 198,-41.19\"/>\n</g>\n<!-- 133576645604832 -->\n<g id=\"node3\" class=\"node\">\n<title>133576645604832</title>\n<polygon fill=\"lightgrey\" stroke=\"black\" points=\"245,-141 144,-141 144,-122 245,-122 245,-141\"/>\n<text text-anchor=\"middle\" x=\"194.5\" y=\"-129\" font-family=\"monospace\" font-size=\"10.00\">AddmmBackward0</text>\n</g>\n<!-- 133576645604832&#45;&gt;133576645599984 -->\n<g id=\"edge1\" class=\"edge\">\n<title>133576645604832&#45;&gt;133576645599984</title>\n<path fill=\"none\" stroke=\"black\" d=\"M194.5,-121.75C194.5,-114.8 194.5,-104.85 194.5,-96.13\"/>\n<polygon fill=\"black\" stroke=\"black\" points=\"198,-96.09 194.5,-86.09 191,-96.09 198,-96.09\"/>\n</g>\n<!-- 133576645603488 -->\n<g id=\"node4\" class=\"node\">\n<title>133576645603488</title>\n<polygon fill=\"lightgrey\" stroke=\"black\" points=\"129,-196 28,-196 28,-177 129,-177 129,-196\"/>\n<text text-anchor=\"middle\" x=\"78.5\" y=\"-184\" font-family=\"monospace\" font-size=\"10.00\">AccumulateGrad</text>\n</g>\n<!-- 133576645603488&#45;&gt;133576645604832 -->\n<g id=\"edge2\" class=\"edge\">\n<title>133576645603488&#45;&gt;133576645604832</title>\n<path fill=\"none\" stroke=\"black\" d=\"M97.14,-176.98C115.8,-168.46 144.75,-155.23 166.24,-145.41\"/>\n<polygon fill=\"black\" stroke=\"black\" points=\"167.88,-148.51 175.52,-141.17 164.97,-142.14 167.88,-148.51\"/>\n</g>\n<!-- 133576645275904 -->\n<g id=\"node5\" class=\"node\">\n<title>133576645275904</title>\n<polygon fill=\"lightblue\" stroke=\"black\" points=\"111,-262 46,-262 46,-232 111,-232 111,-262\"/>\n<text text-anchor=\"middle\" x=\"78.5\" y=\"-250\" font-family=\"monospace\" font-size=\"10.00\">fc3.bias</text>\n<text text-anchor=\"middle\" x=\"78.5\" y=\"-239\" font-family=\"monospace\" font-size=\"10.00\"> (4)</text>\n</g>\n<!-- 133576645275904&#45;&gt;133576645603488 -->\n<g id=\"edge3\" class=\"edge\">\n<title>133576645275904&#45;&gt;133576645603488</title>\n<path fill=\"none\" stroke=\"black\" d=\"M78.5,-231.84C78.5,-224.21 78.5,-214.7 78.5,-206.45\"/>\n<polygon fill=\"black\" stroke=\"black\" points=\"82,-206.27 78.5,-196.27 75,-206.27 82,-206.27\"/>\n</g>\n<!-- 133576645601184 -->\n<g id=\"node6\" class=\"node\">\n<title>133576645601184</title>\n<polygon fill=\"lightgrey\" stroke=\"black\" points=\"242,-196 147,-196 147,-177 242,-177 242,-196\"/>\n<text text-anchor=\"middle\" x=\"194.5\" y=\"-184\" font-family=\"monospace\" font-size=\"10.00\">ReluBackward0</text>\n</g>\n<!-- 133576645601184&#45;&gt;133576645604832 -->\n<g id=\"edge4\" class=\"edge\">\n<title>133576645601184&#45;&gt;133576645604832</title>\n<path fill=\"none\" stroke=\"black\" d=\"M194.5,-176.75C194.5,-169.8 194.5,-159.85 194.5,-151.13\"/>\n<polygon fill=\"black\" stroke=\"black\" points=\"198,-151.09 194.5,-141.09 191,-151.09 198,-151.09\"/>\n</g>\n<!-- 133576645603200 -->\n<g id=\"node7\" class=\"node\">\n<title>133576645603200</title>\n<polygon fill=\"lightgrey\" stroke=\"black\" points=\"237,-256.5 136,-256.5 136,-237.5 237,-237.5 237,-256.5\"/>\n<text text-anchor=\"middle\" x=\"186.5\" y=\"-244.5\" font-family=\"monospace\" font-size=\"10.00\">AddmmBackward0</text>\n</g>\n<!-- 133576645603200&#45;&gt;133576645601184 -->\n<g id=\"edge5\" class=\"edge\">\n<title>133576645603200&#45;&gt;133576645601184</title>\n<path fill=\"none\" stroke=\"black\" d=\"M187.68,-237.37C188.79,-229.25 190.49,-216.81 191.92,-206.39\"/>\n<polygon fill=\"black\" stroke=\"black\" points=\"195.43,-206.55 193.31,-196.17 188.49,-205.6 195.43,-206.55\"/>\n</g>\n<!-- 133576645601760 -->\n<g id=\"node8\" class=\"node\">\n<title>133576645601760</title>\n<polygon fill=\"lightgrey\" stroke=\"black\" points=\"101,-322.5 0,-322.5 0,-303.5 101,-303.5 101,-322.5\"/>\n<text text-anchor=\"middle\" x=\"50.5\" y=\"-310.5\" font-family=\"monospace\" font-size=\"10.00\">AccumulateGrad</text>\n</g>\n<!-- 133576645601760&#45;&gt;133576645603200 -->\n<g id=\"edge6\" class=\"edge\">\n<title>133576645601760&#45;&gt;133576645603200</title>\n<path fill=\"none\" stroke=\"black\" d=\"M68.84,-303.37C91.96,-292.49 131.91,-273.69 158.77,-261.05\"/>\n<polygon fill=\"black\" stroke=\"black\" points=\"160.46,-264.12 168.01,-256.7 157.48,-257.79 160.46,-264.12\"/>\n</g>\n<!-- 133576645274224 -->\n<g id=\"node9\" class=\"node\">\n<title>133576645274224</title>\n<polygon fill=\"lightblue\" stroke=\"black\" points=\"83,-394 18,-394 18,-364 83,-364 83,-394\"/>\n<text text-anchor=\"middle\" x=\"50.5\" y=\"-382\" font-family=\"monospace\" font-size=\"10.00\">fc2.bias</text>\n<text text-anchor=\"middle\" x=\"50.5\" y=\"-371\" font-family=\"monospace\" font-size=\"10.00\"> (128)</text>\n</g>\n<!-- 133576645274224&#45;&gt;133576645601760 -->\n<g id=\"edge7\" class=\"edge\">\n<title>133576645274224&#45;&gt;133576645601760</title>\n<path fill=\"none\" stroke=\"black\" d=\"M50.5,-363.8C50.5,-354.7 50.5,-342.79 50.5,-332.9\"/>\n<polygon fill=\"black\" stroke=\"black\" points=\"54,-332.84 50.5,-322.84 47,-332.84 54,-332.84\"/>\n</g>\n<!-- 133576645602576 -->\n<g id=\"node10\" class=\"node\">\n<title>133576645602576</title>\n<polygon fill=\"lightgrey\" stroke=\"black\" points=\"214,-322.5 119,-322.5 119,-303.5 214,-303.5 214,-322.5\"/>\n<text text-anchor=\"middle\" x=\"166.5\" y=\"-310.5\" font-family=\"monospace\" font-size=\"10.00\">ReluBackward0</text>\n</g>\n<!-- 133576645602576&#45;&gt;133576645603200 -->\n<g id=\"edge8\" class=\"edge\">\n<title>133576645602576&#45;&gt;133576645603200</title>\n<path fill=\"none\" stroke=\"black\" d=\"M169.2,-303.37C172.13,-293.97 176.92,-278.67 180.71,-266.53\"/>\n<polygon fill=\"black\" stroke=\"black\" points=\"184.07,-267.49 183.72,-256.91 177.39,-265.41 184.07,-267.49\"/>\n</g>\n<!-- 133576645602672 -->\n<g id=\"node11\" class=\"node\">\n<title>133576645602672</title>\n<polygon fill=\"lightgrey\" stroke=\"black\" points=\"209,-388.5 108,-388.5 108,-369.5 209,-369.5 209,-388.5\"/>\n<text text-anchor=\"middle\" x=\"158.5\" y=\"-376.5\" font-family=\"monospace\" font-size=\"10.00\">AddmmBackward0</text>\n</g>\n<!-- 133576645602672&#45;&gt;133576645602576 -->\n<g id=\"edge9\" class=\"edge\">\n<title>133576645602672&#45;&gt;133576645602576</title>\n<path fill=\"none\" stroke=\"black\" d=\"M159.58,-369.37C160.74,-360.07 162.63,-344.98 164.14,-332.9\"/>\n<polygon fill=\"black\" stroke=\"black\" points=\"167.62,-333.26 165.39,-322.91 160.67,-332.39 167.62,-333.26\"/>\n</g>\n<!-- 133576645600464 -->\n<g id=\"node12\" class=\"node\">\n<title>133576645600464</title>\n<polygon fill=\"lightgrey\" stroke=\"black\" points=\"112,-454.5 11,-454.5 11,-435.5 112,-435.5 112,-454.5\"/>\n<text text-anchor=\"middle\" x=\"61.5\" y=\"-442.5\" font-family=\"monospace\" font-size=\"10.00\">AccumulateGrad</text>\n</g>\n<!-- 133576645600464&#45;&gt;133576645602672 -->\n<g id=\"edge10\" class=\"edge\">\n<title>133576645600464&#45;&gt;133576645602672</title>\n<path fill=\"none\" stroke=\"black\" d=\"M74.58,-435.37C90.56,-424.82 117.83,-406.84 136.93,-394.23\"/>\n<polygon fill=\"black\" stroke=\"black\" points=\"138.9,-397.13 145.32,-388.7 135.04,-391.28 138.9,-397.13\"/>\n</g>\n<!-- 133576645269984 -->\n<g id=\"node13\" class=\"node\">\n<title>133576645269984</title>\n<polygon fill=\"lightblue\" stroke=\"black\" points=\"94,-526 29,-526 29,-496 94,-496 94,-526\"/>\n<text text-anchor=\"middle\" x=\"61.5\" y=\"-514\" font-family=\"monospace\" font-size=\"10.00\">fc1.bias</text>\n<text text-anchor=\"middle\" x=\"61.5\" y=\"-503\" font-family=\"monospace\" font-size=\"10.00\"> (128)</text>\n</g>\n<!-- 133576645269984&#45;&gt;133576645600464 -->\n<g id=\"edge11\" class=\"edge\">\n<title>133576645269984&#45;&gt;133576645600464</title>\n<path fill=\"none\" stroke=\"black\" d=\"M61.5,-495.8C61.5,-486.7 61.5,-474.79 61.5,-464.9\"/>\n<polygon fill=\"black\" stroke=\"black\" points=\"65,-464.84 61.5,-454.84 58,-464.84 65,-464.84\"/>\n</g>\n<!-- 133576645606368 -->\n<g id=\"node14\" class=\"node\">\n<title>133576645606368</title>\n<polygon fill=\"lightgrey\" stroke=\"black\" points=\"207,-454.5 130,-454.5 130,-435.5 207,-435.5 207,-454.5\"/>\n<text text-anchor=\"middle\" x=\"168.5\" y=\"-442.5\" font-family=\"monospace\" font-size=\"10.00\">TBackward0</text>\n</g>\n<!-- 133576645606368&#45;&gt;133576645602672 -->\n<g id=\"edge12\" class=\"edge\">\n<title>133576645606368&#45;&gt;133576645602672</title>\n<path fill=\"none\" stroke=\"black\" d=\"M167.15,-435.37C165.7,-426.07 163.34,-410.98 161.45,-398.9\"/>\n<polygon fill=\"black\" stroke=\"black\" points=\"164.89,-398.25 159.89,-388.91 157.98,-399.33 164.89,-398.25\"/>\n</g>\n<!-- 133576645603920 -->\n<g id=\"node15\" class=\"node\">\n<title>133576645603920</title>\n<polygon fill=\"lightgrey\" stroke=\"black\" points=\"219,-520.5 118,-520.5 118,-501.5 219,-501.5 219,-520.5\"/>\n<text text-anchor=\"middle\" x=\"168.5\" y=\"-508.5\" font-family=\"monospace\" font-size=\"10.00\">AccumulateGrad</text>\n</g>\n<!-- 133576645603920&#45;&gt;133576645606368 -->\n<g id=\"edge13\" class=\"edge\">\n<title>133576645603920&#45;&gt;133576645606368</title>\n<path fill=\"none\" stroke=\"black\" d=\"M168.5,-501.37C168.5,-492.16 168.5,-477.29 168.5,-465.27\"/>\n<polygon fill=\"black\" stroke=\"black\" points=\"172,-464.91 168.5,-454.91 165,-464.91 172,-464.91\"/>\n</g>\n<!-- 133576645275744 -->\n<g id=\"node16\" class=\"node\">\n<title>133576645275744</title>\n<polygon fill=\"lightblue\" stroke=\"black\" points=\"207,-592 130,-592 130,-562 207,-562 207,-592\"/>\n<text text-anchor=\"middle\" x=\"168.5\" y=\"-580\" font-family=\"monospace\" font-size=\"10.00\">fc1.weight</text>\n<text text-anchor=\"middle\" x=\"168.5\" y=\"-569\" font-family=\"monospace\" font-size=\"10.00\"> (128, 90)</text>\n</g>\n<!-- 133576645275744&#45;&gt;133576645603920 -->\n<g id=\"edge14\" class=\"edge\">\n<title>133576645275744&#45;&gt;133576645603920</title>\n<path fill=\"none\" stroke=\"black\" d=\"M168.5,-561.8C168.5,-552.7 168.5,-540.79 168.5,-530.9\"/>\n<polygon fill=\"black\" stroke=\"black\" points=\"172,-530.84 168.5,-520.84 165,-530.84 172,-530.84\"/>\n</g>\n<!-- 133576645602480 -->\n<g id=\"node17\" class=\"node\">\n<title>133576645602480</title>\n<polygon fill=\"lightgrey\" stroke=\"black\" points=\"309,-322.5 232,-322.5 232,-303.5 309,-303.5 309,-322.5\"/>\n<text text-anchor=\"middle\" x=\"270.5\" y=\"-310.5\" font-family=\"monospace\" font-size=\"10.00\">TBackward0</text>\n</g>\n<!-- 133576645602480&#45;&gt;133576645603200 -->\n<g id=\"edge15\" class=\"edge\">\n<title>133576645602480&#45;&gt;133576645603200</title>\n<path fill=\"none\" stroke=\"black\" d=\"M259.17,-303.37C245.64,-293.06 222.78,-275.65 206.31,-263.09\"/>\n<polygon fill=\"black\" stroke=\"black\" points=\"207.99,-259.98 197.92,-256.7 203.75,-265.54 207.99,-259.98\"/>\n</g>\n<!-- 133576645604064 -->\n<g id=\"node18\" class=\"node\">\n<title>133576645604064</title>\n<polygon fill=\"lightgrey\" stroke=\"black\" points=\"328,-388.5 227,-388.5 227,-369.5 328,-369.5 328,-388.5\"/>\n<text text-anchor=\"middle\" x=\"277.5\" y=\"-376.5\" font-family=\"monospace\" font-size=\"10.00\">AccumulateGrad</text>\n</g>\n<!-- 133576645604064&#45;&gt;133576645602480 -->\n<g id=\"edge16\" class=\"edge\">\n<title>133576645604064&#45;&gt;133576645602480</title>\n<path fill=\"none\" stroke=\"black\" d=\"M276.56,-369.37C275.54,-360.07 273.89,-344.98 272.57,-332.9\"/>\n<polygon fill=\"black\" stroke=\"black\" points=\"276.04,-332.47 271.47,-322.91 269.08,-333.23 276.04,-332.47\"/>\n</g>\n<!-- 133576645273424 -->\n<g id=\"node19\" class=\"node\">\n<title>133576645273424</title>\n<polygon fill=\"lightblue\" stroke=\"black\" points=\"319,-460 236,-460 236,-430 319,-430 319,-460\"/>\n<text text-anchor=\"middle\" x=\"277.5\" y=\"-448\" font-family=\"monospace\" font-size=\"10.00\">fc2.weight</text>\n<text text-anchor=\"middle\" x=\"277.5\" y=\"-437\" font-family=\"monospace\" font-size=\"10.00\"> (128, 128)</text>\n</g>\n<!-- 133576645273424&#45;&gt;133576645604064 -->\n<g id=\"edge17\" class=\"edge\">\n<title>133576645273424&#45;&gt;133576645604064</title>\n<path fill=\"none\" stroke=\"black\" d=\"M277.5,-429.8C277.5,-420.7 277.5,-408.79 277.5,-398.9\"/>\n<polygon fill=\"black\" stroke=\"black\" points=\"281,-398.84 277.5,-388.84 274,-398.84 281,-398.84\"/>\n</g>\n<!-- 133576645603776 -->\n<g id=\"node20\" class=\"node\">\n<title>133576645603776</title>\n<polygon fill=\"lightgrey\" stroke=\"black\" points=\"360,-196 283,-196 283,-177 360,-177 360,-196\"/>\n<text text-anchor=\"middle\" x=\"321.5\" y=\"-184\" font-family=\"monospace\" font-size=\"10.00\">TBackward0</text>\n</g>\n<!-- 133576645603776&#45;&gt;133576645604832 -->\n<g id=\"edge18\" class=\"edge\">\n<title>133576645603776&#45;&gt;133576645604832</title>\n<path fill=\"none\" stroke=\"black\" d=\"M301.1,-176.98C280.48,-168.38 248.39,-154.99 224.81,-145.15\"/>\n<polygon fill=\"black\" stroke=\"black\" points=\"225.85,-141.79 215.28,-141.17 223.16,-148.25 225.85,-141.79\"/>\n</g>\n<!-- 133576645606608 -->\n<g id=\"node21\" class=\"node\">\n<title>133576645606608</title>\n<polygon fill=\"lightgrey\" stroke=\"black\" points=\"396,-256.5 295,-256.5 295,-237.5 396,-237.5 396,-256.5\"/>\n<text text-anchor=\"middle\" x=\"345.5\" y=\"-244.5\" font-family=\"monospace\" font-size=\"10.00\">AccumulateGrad</text>\n</g>\n<!-- 133576645606608&#45;&gt;133576645603776 -->\n<g id=\"edge19\" class=\"edge\">\n<title>133576645606608&#45;&gt;133576645603776</title>\n<path fill=\"none\" stroke=\"black\" d=\"M341.96,-237.37C338.56,-229.07 333.31,-216.28 328.98,-205.72\"/>\n<polygon fill=\"black\" stroke=\"black\" points=\"332.09,-204.09 325.06,-196.17 325.61,-206.75 332.09,-204.09\"/>\n</g>\n<!-- 133576645274304 -->\n<g id=\"node22\" class=\"node\">\n<title>133576645274304</title>\n<polygon fill=\"lightblue\" stroke=\"black\" points=\"404,-328 327,-328 327,-298 404,-298 404,-328\"/>\n<text text-anchor=\"middle\" x=\"365.5\" y=\"-316\" font-family=\"monospace\" font-size=\"10.00\">fc3.weight</text>\n<text text-anchor=\"middle\" x=\"365.5\" y=\"-305\" font-family=\"monospace\" font-size=\"10.00\"> (4, 128)</text>\n</g>\n<!-- 133576645274304&#45;&gt;133576645606608 -->\n<g id=\"edge20\" class=\"edge\">\n<title>133576645274304&#45;&gt;133576645606608</title>\n<path fill=\"none\" stroke=\"black\" d=\"M361.06,-297.8C358.19,-288.6 354.42,-276.53 351.31,-266.58\"/>\n<polygon fill=\"black\" stroke=\"black\" points=\"354.59,-265.35 348.26,-256.84 347.91,-267.43 354.59,-265.35\"/>\n</g>\n</g>\n</svg>\n",
            "text/plain": [
              "<graphviz.graphs.Digraph at 0x797cbc82fb20>"
            ]
          },
          "metadata": {},
          "execution_count": 14
        }
      ]
    },
    {
      "cell_type": "code",
      "source": [
        "# new_list_keypoints = [\"part_stroke\"]\n",
        "# for i in range(len(joint_names)):\n",
        "#     new_list_keypoints.append(joint_names[i]+\"_x\")\n",
        "#     new_list_keypoints.append(joint_names[i]+\"_y\")\n",
        "#     new_list_keypoints.append(joint_names[i]+\"_z\")\n",
        "\n",
        "# print(new_list_keypoints)\n",
        "\n",
        "# # Replace 'output_file.csv' with the desired output CSV file name\n",
        "# output_file = 'output_file.csv'\n",
        "\n",
        "# # Write the list as the header row in the CSV file\n",
        "# with open(output_file, mode='w', newline='') as file:\n",
        "#     writer = csv.writer(file)\n",
        "#     writer.writerow(new_list_keypoints)\n",
        "\n",
        "# print(f\"Header row written to {output_file}\")\n",
        "\n",
        "# # Now, you can iterate through the image files and perform actions on each image\n",
        "# for image_file in image_files[:20]:\n",
        "#     image_path = os.path.join(folder_path, image_file)\n",
        "\n",
        "#     # You can, for example, display each image using IPython if you have that library installed\n",
        "#     #from IPython.display import Image\n",
        "#     #display(Image(filename=image_path))\n",
        "\n",
        "#     # Or you can perform any other operations on the images\n",
        "#     # For example, you can process the images using a library like PIL (Pillow)\n",
        "#     # from PIL import Image as PILImage\n",
        "#     # image = PILImage.open(image_path)\n",
        "#     # Do something with the image here\n",
        "#     img = tf.image.decode_image(tf.io.read_file(image_path))\n",
        "#     pred = model.detect_poses(img, skeleton='smpl+head_30')\n",
        "#     #print(pred['poses3d'].numpy()[0])\n",
        "#     coords = pred['poses3d'].numpy()[0]\n",
        "#     coordinates_1d = coords.ravel()\n",
        "#     coordinates_1d = np.insert(coords.ravel(), 0, 1)\n",
        "#     # output_file = 'output_file.csv'\n",
        "#     with open(output_file, mode='a', newline='') as file:\n",
        "#       writer = csv.writer(file)\n",
        "#       writer.writerow(coordinates_1d)\n",
        "#     ###########workinggggggg plot imahes##########\n",
        "#     #plot_results(img, pred, joint_names, joint_edges)\n",
        "\n",
        "#     print(f\"Processing: {image_file}\")\n",
        "\n",
        "\n",
        "\n"
      ],
      "metadata": {
        "colab": {
          "base_uri": "https://localhost:8080/"
        },
        "id": "vFkKiR-rYvMT",
        "outputId": "41f40e56-e91f-4c4c-a097-cfbcb7d7f21c"
      },
      "execution_count": null,
      "outputs": [
        {
          "output_type": "stream",
          "name": "stdout",
          "text": [
            "['part_stroke', 'pelv_smpl_x', 'pelv_smpl_y', 'pelv_smpl_z', 'lhip_smpl_x', 'lhip_smpl_y', 'lhip_smpl_z', 'rhip_smpl_x', 'rhip_smpl_y', 'rhip_smpl_z', 'bell_smpl_x', 'bell_smpl_y', 'bell_smpl_z', 'lkne_smpl_x', 'lkne_smpl_y', 'lkne_smpl_z', 'rkne_smpl_x', 'rkne_smpl_y', 'rkne_smpl_z', 'spin_smpl_x', 'spin_smpl_y', 'spin_smpl_z', 'lank_smpl_x', 'lank_smpl_y', 'lank_smpl_z', 'rank_smpl_x', 'rank_smpl_y', 'rank_smpl_z', 'thor_smpl_x', 'thor_smpl_y', 'thor_smpl_z', 'ltoe_smpl_x', 'ltoe_smpl_y', 'ltoe_smpl_z', 'rtoe_smpl_x', 'rtoe_smpl_y', 'rtoe_smpl_z', 'neck_smpl_x', 'neck_smpl_y', 'neck_smpl_z', 'lcla_smpl_x', 'lcla_smpl_y', 'lcla_smpl_z', 'rcla_smpl_x', 'rcla_smpl_y', 'rcla_smpl_z', 'head_smpl_x', 'head_smpl_y', 'head_smpl_z', 'lsho_smpl_x', 'lsho_smpl_y', 'lsho_smpl_z', 'rsho_smpl_x', 'rsho_smpl_y', 'rsho_smpl_z', 'lelb_smpl_x', 'lelb_smpl_y', 'lelb_smpl_z', 'relb_smpl_x', 'relb_smpl_y', 'relb_smpl_z', 'lwri_smpl_x', 'lwri_smpl_y', 'lwri_smpl_z', 'rwri_smpl_x', 'rwri_smpl_y', 'rwri_smpl_z', 'lhan_smpl_x', 'lhan_smpl_y', 'lhan_smpl_z', 'rhan_smpl_x', 'rhan_smpl_y', 'rhan_smpl_z', 'nose_coco_x', 'nose_coco_y', 'nose_coco_z', 'leye_coco_x', 'leye_coco_y', 'leye_coco_z', 'lear_coco_x', 'lear_coco_y', 'lear_coco_z', 'reye_coco_x', 'reye_coco_y', 'reye_coco_z', 'rear_coco_x', 'rear_coco_y', 'rear_coco_z', 'htop_mpi_inf_3dhp_x', 'htop_mpi_inf_3dhp_y', 'htop_mpi_inf_3dhp_z']\n",
            "Header row written to output_file.csv\n",
            "Processing: images-11.jpg\n",
            "Processing: Screenshot 2022-11-28 at 9.50.18 PM.png\n",
            "Processing: the-catch.jpg\n",
            "Processing: Screenshot 2022-11-27 at 6.26.12 PM.png\n",
            "Processing: Screenshot 2022-11-27 at 7.39.49 PM.png\n",
            "Processing: download-1.jpg\n",
            "Processing: Screenshot 2022-11-27 at 2.11.42 PM.png\n",
            "Processing: Screenshot 2022-11-28 at 9.50.20 PM.png\n",
            "Processing: Screenshot 2022-12-01 at 7.03.47 PM.png\n",
            "Processing: Screenshot 2022-11-27 at 7.45.23 PM.png\n",
            "Processing: Screenshot 2022-11-27 at 2.53.26 PM.png\n",
            "Processing: Screenshot 2022-12-01 at 5.48.28 PM.png\n",
            "Processing: Screenshot 2022-11-27 at 8.00.12 PM.png\n",
            "Processing: Screenshot 2022-11-27 at 6.25.07 PM.png\n",
            "Processing: Screenshot 2022-11-27 at 8.12.37 PM.png\n",
            "Processing: Screenshot 2022-11-28 at 4.29.59 PM.png\n",
            "Processing: Screenshot 2022-11-27 at 8.13.39 PM.png\n",
            "Processing: Screenshot 2022-11-28 at 10.54.28 PM.png\n",
            "Processing: Screenshot 2022-11-29 at 12.00.45 AM.png\n",
            "Processing: Screenshot 2022-11-28 at 11.49.25 PM.png\n"
          ]
        }
      ]
    }
  ]
}